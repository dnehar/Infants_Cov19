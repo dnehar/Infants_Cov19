{
 "cells": [
  {
   "cell_type": "code",
   "execution_count": 1,
   "metadata": {},
   "outputs": [],
   "source": [
    "import numpy as np\n",
    "import pandas as pd\n",
    "import scanpy as sc\n",
    "\n",
    "%matplotlib inline\n",
    "import scrublet as scr\n",
    "import scipy.io\n",
    "import os\n",
    "\n",
    "#from matplotlib import rcParams\n",
    "#sc.logging.print_header()\n",
    "\n",
    "import matplotlib\n",
    "import matplotlib.pyplot as plt\n",
    "matplotlib.style.use('default')  \n",
    "\n",
    "sc.settings.set_figure_params(dpi=80)\n",
    "#sc.logging.print_versions()\n"
   ]
  },
  {
   "cell_type": "code",
   "execution_count": 2,
   "metadata": {},
   "outputs": [],
   "source": [
    "sc.settings.verbosity = 3  # verbosity: errors (0), warnings (1), info (2), hints (3)"
   ]
  },
  {
   "cell_type": "code",
   "execution_count": 3,
   "metadata": {},
   "outputs": [
    {
     "name": "stdout",
     "output_type": "stream",
     "text": [
      "/projects/banchereau-lab/USERS/nehard/SingleCell/Jupyter/Covid/pCov_2021/NoteBooks\n"
     ]
    }
   ],
   "source": [
    "!pwd"
   ]
  },
  {
   "cell_type": "markdown",
   "metadata": {},
   "source": [
    "# Read the merged rawdata counts matrix (after aggr function- cell ranger)"
   ]
  },
  {
   "cell_type": "code",
   "execution_count": 4,
   "metadata": {},
   "outputs": [
    {
     "name": "stdout",
     "output_type": "stream",
     "text": [
      "... writing an h5ad cache file to speedup reading next time\n"
     ]
    },
    {
     "name": "stderr",
     "output_type": "stream",
     "text": [
      "/home/nehard/anaconda3/envs/Hnunu/lib/python3.6/site-packages/anndata/_core/anndata.py:1094: FutureWarning: is_categorical is deprecated and will be removed in a future version.  Use is_categorical_dtype instead\n",
      "  if not is_categorical(df_full[k]):\n"
     ]
    },
    {
     "data": {
      "text/plain": [
       "AnnData object with n_obs × n_vars = 313076 × 33538\n",
       "    var: 'gene_ids', 'feature_types'"
      ]
     },
     "execution_count": 4,
     "metadata": {},
     "output_type": "execute_result"
    }
   ],
   "source": [
    "#--April 13 2021 : pCov40 = new cohort with 26 pCov + 14 pHC\n",
    "\n",
    "adata = sc.read_10x_mtx('/projects/banchereau-lab/USERS/nehard/SingleCell/Covid19/scRNAseq/pCov_2021/pCov_2021_agg/outs/filtered_feature_bc_matrix', \n",
    "                        var_names='gene_symbols', cache=True)\n",
    "adata"
   ]
  },
  {
   "cell_type": "code",
   "execution_count": 5,
   "metadata": {},
   "outputs": [
    {
     "name": "stderr",
     "output_type": "stream",
     "text": [
      "/home/nehard/anaconda3/envs/Hnunu/lib/python3.6/site-packages/anndata/_core/anndata.py:1192: FutureWarning: is_categorical is deprecated and will be removed in a future version.  Use is_categorical_dtype instead\n",
      "  if is_string_dtype(df[key]) and not is_categorical(df[key])\n",
      "... storing 'feature_types' as categorical\n"
     ]
    }
   ],
   "source": [
    "adata.write('../H5AD/pCov40_raw_BS_04132021.h5ad')"
   ]
  },
  {
   "cell_type": "code",
   "execution_count": 6,
   "metadata": {},
   "outputs": [
    {
     "data": {
      "text/html": [
       "<div>\n",
       "<style scoped>\n",
       "    .dataframe tbody tr th:only-of-type {\n",
       "        vertical-align: middle;\n",
       "    }\n",
       "\n",
       "    .dataframe tbody tr th {\n",
       "        vertical-align: top;\n",
       "    }\n",
       "\n",
       "    .dataframe thead th {\n",
       "        text-align: right;\n",
       "    }\n",
       "</style>\n",
       "<table border=\"1\" class=\"dataframe\">\n",
       "  <thead>\n",
       "    <tr style=\"text-align: right;\">\n",
       "      <th></th>\n",
       "    </tr>\n",
       "  </thead>\n",
       "  <tbody>\n",
       "    <tr>\n",
       "      <th>AAACCCAAGAACTGAT-1</th>\n",
       "    </tr>\n",
       "    <tr>\n",
       "      <th>AAACCCAAGCGGGTTA-1</th>\n",
       "    </tr>\n",
       "    <tr>\n",
       "      <th>AAACCCAAGTGTAGAT-1</th>\n",
       "    </tr>\n",
       "    <tr>\n",
       "      <th>AAACCCACAACAAAGT-1</th>\n",
       "    </tr>\n",
       "    <tr>\n",
       "      <th>AAACCCACACGACAGA-1</th>\n",
       "    </tr>\n",
       "  </tbody>\n",
       "</table>\n",
       "</div>"
      ],
      "text/plain": [
       "Empty DataFrame\n",
       "Columns: []\n",
       "Index: [AAACCCAAGAACTGAT-1, AAACCCAAGCGGGTTA-1, AAACCCAAGTGTAGAT-1, AAACCCACAACAAAGT-1, AAACCCACACGACAGA-1]"
      ]
     },
     "execution_count": 6,
     "metadata": {},
     "output_type": "execute_result"
    }
   ],
   "source": [
    "adata.obs.head(5)"
   ]
  },
  {
   "cell_type": "markdown",
   "metadata": {},
   "source": [
    "# read 'raw' object wo sample information "
   ]
  },
  {
   "cell_type": "code",
   "execution_count": 4,
   "metadata": {},
   "outputs": [
    {
     "data": {
      "text/plain": [
       "AnnData object with n_obs × n_vars = 313076 × 33538\n",
       "    var: 'gene_ids', 'feature_types'"
      ]
     },
     "execution_count": 4,
     "metadata": {},
     "output_type": "execute_result"
    }
   ],
   "source": [
    "adata_raw =sc.read('../H5AD/pCov40_raw_BS_04132021.h5ad')\n",
    "adata_raw"
   ]
  },
  {
   "cell_type": "code",
   "execution_count": 5,
   "metadata": {},
   "outputs": [
    {
     "data": {
      "text/html": [
       "<div>\n",
       "<style scoped>\n",
       "    .dataframe tbody tr th:only-of-type {\n",
       "        vertical-align: middle;\n",
       "    }\n",
       "\n",
       "    .dataframe tbody tr th {\n",
       "        vertical-align: top;\n",
       "    }\n",
       "\n",
       "    .dataframe thead th {\n",
       "        text-align: right;\n",
       "    }\n",
       "</style>\n",
       "<table border=\"1\" class=\"dataframe\">\n",
       "  <thead>\n",
       "    <tr style=\"text-align: right;\">\n",
       "      <th></th>\n",
       "    </tr>\n",
       "  </thead>\n",
       "  <tbody>\n",
       "    <tr>\n",
       "      <th>AAACCCAAGAACTGAT-1</th>\n",
       "    </tr>\n",
       "    <tr>\n",
       "      <th>AAACCCAAGCGGGTTA-1</th>\n",
       "    </tr>\n",
       "    <tr>\n",
       "      <th>AAACCCAAGTGTAGAT-1</th>\n",
       "    </tr>\n",
       "    <tr>\n",
       "      <th>AAACCCACAACAAAGT-1</th>\n",
       "    </tr>\n",
       "    <tr>\n",
       "      <th>AAACCCACACGACAGA-1</th>\n",
       "    </tr>\n",
       "  </tbody>\n",
       "</table>\n",
       "</div>"
      ],
      "text/plain": [
       "Empty DataFrame\n",
       "Columns: []\n",
       "Index: [AAACCCAAGAACTGAT-1, AAACCCAAGCGGGTTA-1, AAACCCAAGTGTAGAT-1, AAACCCACAACAAAGT-1, AAACCCACACGACAGA-1]"
      ]
     },
     "execution_count": 5,
     "metadata": {},
     "output_type": "execute_result"
    }
   ],
   "source": [
    "adata_raw.obs.head(5)"
   ]
  },
  {
   "cell_type": "code",
   "execution_count": 6,
   "metadata": {},
   "outputs": [
    {
     "data": {
      "text/plain": [
       "AnnData object with n_obs × n_vars = 313076 × 33538\n",
       "    obs: 'Cells'\n",
       "    var: 'gene_ids', 'feature_types'"
      ]
     },
     "execution_count": 6,
     "metadata": {},
     "output_type": "execute_result"
    }
   ],
   "source": [
    "adata_raw.obs['Cells']=adata_raw.obs.index \n",
    "adata_raw"
   ]
  },
  {
   "cell_type": "code",
   "execution_count": 7,
   "metadata": {},
   "outputs": [
    {
     "data": {
      "text/html": [
       "<div>\n",
       "<style scoped>\n",
       "    .dataframe tbody tr th:only-of-type {\n",
       "        vertical-align: middle;\n",
       "    }\n",
       "\n",
       "    .dataframe tbody tr th {\n",
       "        vertical-align: top;\n",
       "    }\n",
       "\n",
       "    .dataframe thead th {\n",
       "        text-align: right;\n",
       "    }\n",
       "</style>\n",
       "<table border=\"1\" class=\"dataframe\">\n",
       "  <thead>\n",
       "    <tr style=\"text-align: right;\">\n",
       "      <th></th>\n",
       "      <th>Cells</th>\n",
       "    </tr>\n",
       "  </thead>\n",
       "  <tbody>\n",
       "    <tr>\n",
       "      <th>AAACCCAAGAACTGAT-1</th>\n",
       "      <td>AAACCCAAGAACTGAT-1</td>\n",
       "    </tr>\n",
       "    <tr>\n",
       "      <th>AAACCCAAGCGGGTTA-1</th>\n",
       "      <td>AAACCCAAGCGGGTTA-1</td>\n",
       "    </tr>\n",
       "    <tr>\n",
       "      <th>AAACCCAAGTGTAGAT-1</th>\n",
       "      <td>AAACCCAAGTGTAGAT-1</td>\n",
       "    </tr>\n",
       "    <tr>\n",
       "      <th>AAACCCACAACAAAGT-1</th>\n",
       "      <td>AAACCCACAACAAAGT-1</td>\n",
       "    </tr>\n",
       "    <tr>\n",
       "      <th>AAACCCACACGACAGA-1</th>\n",
       "      <td>AAACCCACACGACAGA-1</td>\n",
       "    </tr>\n",
       "  </tbody>\n",
       "</table>\n",
       "</div>"
      ],
      "text/plain": [
       "                                 Cells\n",
       "AAACCCAAGAACTGAT-1  AAACCCAAGAACTGAT-1\n",
       "AAACCCAAGCGGGTTA-1  AAACCCAAGCGGGTTA-1\n",
       "AAACCCAAGTGTAGAT-1  AAACCCAAGTGTAGAT-1\n",
       "AAACCCACAACAAAGT-1  AAACCCACAACAAAGT-1\n",
       "AAACCCACACGACAGA-1  AAACCCACACGACAGA-1"
      ]
     },
     "execution_count": 7,
     "metadata": {},
     "output_type": "execute_result"
    }
   ],
   "source": [
    "adata_raw.obs.head()"
   ]
  },
  {
   "cell_type": "code",
   "execution_count": 11,
   "metadata": {},
   "outputs": [],
   "source": [
    "#--- save meta before scruber (BS)\n",
    "adata_raw.obs.to_csv('../Meta/Meta_pCov40_BS_04132021.csv')"
   ]
  },
  {
   "cell_type": "code",
   "execution_count": 12,
   "metadata": {},
   "outputs": [
    {
     "data": {
      "text/html": [
       "<div>\n",
       "<style scoped>\n",
       "    .dataframe tbody tr th:only-of-type {\n",
       "        vertical-align: middle;\n",
       "    }\n",
       "\n",
       "    .dataframe tbody tr th {\n",
       "        vertical-align: top;\n",
       "    }\n",
       "\n",
       "    .dataframe thead th {\n",
       "        text-align: right;\n",
       "    }\n",
       "</style>\n",
       "<table border=\"1\" class=\"dataframe\">\n",
       "  <thead>\n",
       "    <tr style=\"text-align: right;\">\n",
       "      <th></th>\n",
       "      <th>Unnamed: 0</th>\n",
       "      <th>Cells</th>\n",
       "    </tr>\n",
       "  </thead>\n",
       "  <tbody>\n",
       "    <tr>\n",
       "      <th>313072</th>\n",
       "      <td>TTTGTTGAGCTGACAG-40</td>\n",
       "      <td>TTTGTTGAGCTGACAG-40</td>\n",
       "    </tr>\n",
       "    <tr>\n",
       "      <th>313073</th>\n",
       "      <td>TTTGTTGCAGACATCT-40</td>\n",
       "      <td>TTTGTTGCAGACATCT-40</td>\n",
       "    </tr>\n",
       "    <tr>\n",
       "      <th>313074</th>\n",
       "      <td>TTTGTTGGTTCCACGG-40</td>\n",
       "      <td>TTTGTTGGTTCCACGG-40</td>\n",
       "    </tr>\n",
       "    <tr>\n",
       "      <th>313075</th>\n",
       "      <td>TTTGTTGTCTTGGGCG-40</td>\n",
       "      <td>TTTGTTGTCTTGGGCG-40</td>\n",
       "    </tr>\n",
       "  </tbody>\n",
       "</table>\n",
       "</div>"
      ],
      "text/plain": [
       "                 Unnamed: 0                Cells\n",
       "313072  TTTGTTGAGCTGACAG-40  TTTGTTGAGCTGACAG-40\n",
       "313073  TTTGTTGCAGACATCT-40  TTTGTTGCAGACATCT-40\n",
       "313074  TTTGTTGGTTCCACGG-40  TTTGTTGGTTCCACGG-40\n",
       "313075  TTTGTTGTCTTGGGCG-40  TTTGTTGTCTTGGGCG-40"
      ]
     },
     "execution_count": 12,
     "metadata": {},
     "output_type": "execute_result"
    }
   ],
   "source": [
    "Meta = pd.read_csv('../Meta/Meta_pCov40_BS_04132021.csv')\n",
    "Meta.tail(4)"
   ]
  },
  {
   "cell_type": "code",
   "execution_count": 8,
   "metadata": {},
   "outputs": [],
   "source": [
    "Meta = adata_raw.obs"
   ]
  },
  {
   "cell_type": "markdown",
   "metadata": {},
   "source": [
    "# Add sample information to the the matrix (from sample to cells)"
   ]
  },
  {
   "cell_type": "code",
   "execution_count": 9,
   "metadata": {},
   "outputs": [],
   "source": [
    "#-- set R HOME \n",
    "os.environ['R_HOME'] = '/home/nehard/anaconda3/envs/loompy/lib/R'\n",
    "\n",
    "import rpy2\n",
    "import rpy2.rinterface_lib.callbacks\n",
    "import logging\n",
    "from rpy2.robjects import pandas2ri\n",
    "import anndata2ri\n",
    "\n",
    "# Automatically convert rpy2 outputs to pandas dataframes\n",
    "pandas2ri.activate()\n",
    "anndata2ri.activate()\n",
    "%load_ext rpy2.ipython"
   ]
  },
  {
   "cell_type": "markdown",
   "metadata": {},
   "source": [
    "#  petit meta = meta data per cell - Before scrublet "
   ]
  },
  {
   "cell_type": "code",
   "execution_count": 10,
   "metadata": {},
   "outputs": [
    {
     "name": "stdout",
     "output_type": "stream",
     "text": [
      "                                Cells\n",
      "AAACCCAAGAACTGAT-1 AAACCCAAGAACTGAT-1\n",
      "AAACCCAAGCGGGTTA-1 AAACCCAAGCGGGTTA-1\n",
      "AAACCCAAGTGTAGAT-1 AAACCCAAGTGTAGAT-1\n",
      "AAACCCACAACAAAGT-1 AAACCCACAACAAAGT-1\n",
      "AAACCCACACGACAGA-1 AAACCCACACGACAGA-1\n",
      "AAACCCAGTAGACAGC-1 AAACCCAGTAGACAGC-1\n"
     ]
    }
   ],
   "source": [
    "%%R -i Meta\n",
    "suppressPackageStartupMessages(library(dplyr))\n",
    "suppressPackageStartupMessages(library(tidyr))\n",
    "\n",
    "MetaData <- read.csv('../Meta/Meta_pCov40_BS_04132021.csv', row.names=1)  #****\n",
    "head(MetaData)\n",
    " "
   ]
  },
  {
   "cell_type": "code",
   "execution_count": 11,
   "metadata": {},
   "outputs": [
    {
     "name": "stdout",
     "output_type": "stream",
     "text": [
      "                    Samples\n",
      "TTTGGTTTCATCGTAG-40      40\n",
      "TTTGTTGAGCGTTCCG-40      40\n",
      "TTTGTTGAGCTGACAG-40      40\n",
      "TTTGTTGCAGACATCT-40      40\n",
      "TTTGTTGGTTCCACGG-40      40\n",
      "TTTGTTGTCTTGGGCG-40      40\n"
     ]
    }
   ],
   "source": [
    "%%R\n",
    "MetaData %>% separate(Cells,c(\"Cells1\", \"Samples\"), \"-\") %>% dplyr::select(Samples) -> meta\n",
    "tail(meta)"
   ]
  },
  {
   "cell_type": "code",
   "execution_count": 12,
   "metadata": {},
   "outputs": [
    {
     "name": "stdout",
     "output_type": "stream",
     "text": [
      "/projects/banchereau-lab/USERS/nehard/SingleCell/Jupyter/Covid/pCov_2021/NoteBooks\n"
     ]
    }
   ],
   "source": [
    "!pwd"
   ]
  },
  {
   "cell_type": "markdown",
   "metadata": {},
   "source": [
    "# grand Meta = meta per sample (.txt or .csv)"
   ]
  },
  {
   "cell_type": "code",
   "execution_count": 13,
   "metadata": {},
   "outputs": [
    {
     "name": "stdout",
     "output_type": "stream",
     "text": [
      "                  Names Fig_ids Groups Gender Ethnicity Age_Months Year\n",
      "JB19050      HPIR_021_1    pHC1    pHC      F         W       2.17 2020\n",
      "JB19053      HPIR_022_1    pHC2    pHC      F         W       1.87 2020\n",
      "JB19056      HPIR_023_5    pHC3    pHC      F         W      12.07 2020\n",
      "JB19057      HPIR_013_9    pHC4    pHC      F        AA       8.53 2020\n",
      "JB19058      HPIR_036_1    pHC5    pHC      M  Biracial       1.93 2020\n",
      "JB19066      HPIR_060_1    pHC6    pHC      F        AA       1.83 2020\n",
      "JB19069      HPIR_074_1    pHC7    pHC      F        AA       2.13 2020\n",
      "JB20064 COVID_IN_005_V1   pCoV1   pCov      F        AA       9.50 2020\n",
      "JB20065 COVID_IN_007_V1   pCoV2   pCov      F        AA       1.00 2020\n",
      "JB20066 COVID_IN_031_V1   pCoV3   pCov      M        As       7.50 2020\n",
      "JB20067 COVID_IN_033_V2   pCoV4   pCov      F         H       2.53 2020\n",
      "JB20068 COVID_IN_039_V1   pCoV5   pCov      M        AA       0.50 2020\n",
      "        Patient_groups runs_10X\n",
      "JB19050            pHC       B1\n",
      "JB19053            pHC       B2\n",
      "JB19056            pHC       B2\n",
      "JB19057            pHC       B2\n",
      "JB19058            pHC       B2\n",
      "JB19066            pHC       B3\n",
      "JB19069            pHC       B3\n",
      "JB20064             G1       B4\n",
      "JB20065             G3       B4\n",
      "JB20066             G2       B4\n",
      "JB20067             G1       B4\n",
      "JB20068             G2       B4\n"
     ]
    }
   ],
   "source": [
    "%%R\n",
    "#---- csv file with meta data (Age, gender, batches, ...): 05-25-2019\n",
    "Meta <- read.csv(\"../Meta/pCov40_SampleInfo_04132021.txt\", sep='\\t', header=T,row.names=1) #****\n",
    "#Meta$Names_VacDay <- paste0(Meta$Names, '_', Meta$VacDay)\n",
    "\n",
    "head(Meta,12)\n",
    "    "
   ]
  },
  {
   "cell_type": "code",
   "execution_count": 14,
   "metadata": {},
   "outputs": [
    {
     "name": "stdout",
     "output_type": "stream",
     "text": [
      "[1] 40  9\n"
     ]
    }
   ],
   "source": [
    "%%R\n",
    "dim(Meta)"
   ]
  },
  {
   "cell_type": "code",
   "execution_count": 15,
   "metadata": {},
   "outputs": [
    {
     "name": "stdout",
     "output_type": "stream",
     "text": [
      "[1] 40\n"
     ]
    }
   ],
   "source": [
    "%%R\n",
    "nbr <- length(levels(factor(rownames(Meta))))\n",
    "nbr"
   ]
  },
  {
   "cell_type": "code",
   "execution_count": 16,
   "metadata": {},
   "outputs": [
    {
     "name": "stdout",
     "output_type": "stream",
     "text": [
      "                    Samples     IDs      Names Fig_ids Groups Gender Ethnicity\n",
      "TTTGGTTTCATCGTAG-40      40 JB21120 HPIR-031-1   pHC14    pHC      F        AA\n",
      "TTTGTTGAGCGTTCCG-40      40 JB21120 HPIR-031-1   pHC14    pHC      F        AA\n",
      "TTTGTTGAGCTGACAG-40      40 JB21120 HPIR-031-1   pHC14    pHC      F        AA\n",
      "TTTGTTGCAGACATCT-40      40 JB21120 HPIR-031-1   pHC14    pHC      F        AA\n",
      "TTTGTTGGTTCCACGG-40      40 JB21120 HPIR-031-1   pHC14    pHC      F        AA\n",
      "TTTGTTGTCTTGGGCG-40      40 JB21120 HPIR-031-1   pHC14    pHC      F        AA\n",
      "                    Age_Months runs_10X Year Patient_groups\n",
      "TTTGGTTTCATCGTAG-40       2.04       B9 2021            pHC\n",
      "TTTGTTGAGCGTTCCG-40       2.04       B9 2021            pHC\n",
      "TTTGTTGAGCTGACAG-40       2.04       B9 2021            pHC\n",
      "TTTGTTGCAGACATCT-40       2.04       B9 2021            pHC\n",
      "TTTGTTGGTTCCACGG-40       2.04       B9 2021            pHC\n",
      "TTTGTTGTCTTGGGCG-40       2.04       B9 2021            pHC\n"
     ]
    }
   ],
   "source": [
    "%%R -o meta\n",
    "        for (i in 1:nbr){\n",
    "            #meta$IDs[meta$Samples==i] <- as.character(rownames(Meta)[i])\n",
    "            meta$Names[meta$Samples==i] <- as.character(Meta$Names[i])\n",
    "            meta$Fig_ids[meta$Samples==i] <- as.character(Meta$Fig_ids[i])\n",
    "            meta$Groups[meta$Samples==i] <- as.character(Meta$Groups[i])\n",
    "            meta$Gender[meta$Samples==i] <- as.character(Meta$Gender[i])\n",
    "            meta$Ethnicity[meta$Samples==i] <- as.character(Meta$Ethnicity[i])\n",
    "            meta$Age_Months[meta$Samples==i] <- as.character(Meta$Age_Months[i])\n",
    "            meta$runs_10X[meta$Samples==i] <- as.character(Meta$runs_10X[i])\n",
    "            meta$Groups[meta$Samples==i] <- as.character(Meta$Groups[i])\n",
    "            meta$Year[meta$Samples==i] <- as.character(Meta$Year[i])\n",
    "            meta$Patient_groups[meta$Samples==i] <- as.character(Meta$Patient_groups[i])\n",
    "        }\n",
    "tail(meta)\n",
    "\n",
    "\n",
    "\n",
    "        "
   ]
  },
  {
   "cell_type": "code",
   "execution_count": 17,
   "metadata": {},
   "outputs": [
    {
     "name": "stdout",
     "output_type": "stream",
     "text": [
      "                   Samples     IDs      Names Fig_ids Groups Gender Ethnicity\n",
      "AAACCCAAGAACTGAT-1       1 JB19050 HPIR_021_1    pHC1    pHC      F         W\n",
      "AAACCCAAGCGGGTTA-1       1 JB19050 HPIR_021_1    pHC1    pHC      F         W\n",
      "AAACCCAAGTGTAGAT-1       1 JB19050 HPIR_021_1    pHC1    pHC      F         W\n",
      "AAACCCACAACAAAGT-1       1 JB19050 HPIR_021_1    pHC1    pHC      F         W\n",
      "AAACCCACACGACAGA-1       1 JB19050 HPIR_021_1    pHC1    pHC      F         W\n",
      "AAACCCAGTAGACAGC-1       1 JB19050 HPIR_021_1    pHC1    pHC      F         W\n",
      "                   Age_Months runs_10X Year Patient_groups\n",
      "AAACCCAAGAACTGAT-1       2.17       B1 2020            pHC\n",
      "AAACCCAAGCGGGTTA-1       2.17       B1 2020            pHC\n",
      "AAACCCAAGTGTAGAT-1       2.17       B1 2020            pHC\n",
      "AAACCCACAACAAAGT-1       2.17       B1 2020            pHC\n",
      "AAACCCACACGACAGA-1       2.17       B1 2020            pHC\n",
      "AAACCCAGTAGACAGC-1       2.17       B1 2020            pHC\n"
     ]
    }
   ],
   "source": [
    "%%R\n",
    "head(meta)"
   ]
  },
  {
   "cell_type": "markdown",
   "metadata": {},
   "source": [
    "# Add meta data to adata object "
   ]
  },
  {
   "cell_type": "code",
   "execution_count": 18,
   "metadata": {},
   "outputs": [],
   "source": [
    "#-- Add meta to the object: cells per meta \n",
    "adata_raw.obs['Samples']= meta['Samples']\n",
    "adata_raw.obs['IDs']= meta['IDs']\n",
    "adata_raw.obs['Names']= meta['Names']\n",
    "adata_raw.obs['Fig_ids']= meta['Fig_ids']\n",
    "adata_raw.obs['Groups']= meta['Groups']\n",
    "adata_raw.obs['Ethnicity']= meta['Ethnicity']\n",
    "adata_raw.obs['Age_Months']= meta['Age_Months']\n",
    "adata_raw.obs['runs_10X']= meta['runs_10X']\n",
    "adata_raw.obs['Year']= meta['Year']\n",
    "adata_raw.obs['Patient_groups']= meta['Patient_groups']\n"
   ]
  },
  {
   "cell_type": "code",
   "execution_count": 19,
   "metadata": {
    "jupyter": {
     "source_hidden": true
    }
   },
   "outputs": [
    {
     "data": {
      "text/html": [
       "<div>\n",
       "<style scoped>\n",
       "    .dataframe tbody tr th:only-of-type {\n",
       "        vertical-align: middle;\n",
       "    }\n",
       "\n",
       "    .dataframe tbody tr th {\n",
       "        vertical-align: top;\n",
       "    }\n",
       "\n",
       "    .dataframe thead th {\n",
       "        text-align: right;\n",
       "    }\n",
       "</style>\n",
       "<table border=\"1\" class=\"dataframe\">\n",
       "  <thead>\n",
       "    <tr style=\"text-align: right;\">\n",
       "      <th></th>\n",
       "      <th>Cells</th>\n",
       "      <th>Samples</th>\n",
       "      <th>IDs</th>\n",
       "      <th>Names</th>\n",
       "      <th>Fig_ids</th>\n",
       "      <th>Groups</th>\n",
       "      <th>Ethnicity</th>\n",
       "      <th>Age_Months</th>\n",
       "      <th>runs_10X</th>\n",
       "      <th>Year</th>\n",
       "      <th>Patient_groups</th>\n",
       "    </tr>\n",
       "  </thead>\n",
       "  <tbody>\n",
       "    <tr>\n",
       "      <th>AAACCCAAGAACTGAT-1</th>\n",
       "      <td>AAACCCAAGAACTGAT-1</td>\n",
       "      <td>1</td>\n",
       "      <td>JB19050</td>\n",
       "      <td>HPIR_021_1</td>\n",
       "      <td>pHC1</td>\n",
       "      <td>pHC</td>\n",
       "      <td>W</td>\n",
       "      <td>2.17</td>\n",
       "      <td>B1</td>\n",
       "      <td>2020</td>\n",
       "      <td>pHC</td>\n",
       "    </tr>\n",
       "    <tr>\n",
       "      <th>AAACCCAAGCGGGTTA-1</th>\n",
       "      <td>AAACCCAAGCGGGTTA-1</td>\n",
       "      <td>1</td>\n",
       "      <td>JB19050</td>\n",
       "      <td>HPIR_021_1</td>\n",
       "      <td>pHC1</td>\n",
       "      <td>pHC</td>\n",
       "      <td>W</td>\n",
       "      <td>2.17</td>\n",
       "      <td>B1</td>\n",
       "      <td>2020</td>\n",
       "      <td>pHC</td>\n",
       "    </tr>\n",
       "    <tr>\n",
       "      <th>AAACCCAAGTGTAGAT-1</th>\n",
       "      <td>AAACCCAAGTGTAGAT-1</td>\n",
       "      <td>1</td>\n",
       "      <td>JB19050</td>\n",
       "      <td>HPIR_021_1</td>\n",
       "      <td>pHC1</td>\n",
       "      <td>pHC</td>\n",
       "      <td>W</td>\n",
       "      <td>2.17</td>\n",
       "      <td>B1</td>\n",
       "      <td>2020</td>\n",
       "      <td>pHC</td>\n",
       "    </tr>\n",
       "    <tr>\n",
       "      <th>AAACCCACAACAAAGT-1</th>\n",
       "      <td>AAACCCACAACAAAGT-1</td>\n",
       "      <td>1</td>\n",
       "      <td>JB19050</td>\n",
       "      <td>HPIR_021_1</td>\n",
       "      <td>pHC1</td>\n",
       "      <td>pHC</td>\n",
       "      <td>W</td>\n",
       "      <td>2.17</td>\n",
       "      <td>B1</td>\n",
       "      <td>2020</td>\n",
       "      <td>pHC</td>\n",
       "    </tr>\n",
       "    <tr>\n",
       "      <th>AAACCCACACGACAGA-1</th>\n",
       "      <td>AAACCCACACGACAGA-1</td>\n",
       "      <td>1</td>\n",
       "      <td>JB19050</td>\n",
       "      <td>HPIR_021_1</td>\n",
       "      <td>pHC1</td>\n",
       "      <td>pHC</td>\n",
       "      <td>W</td>\n",
       "      <td>2.17</td>\n",
       "      <td>B1</td>\n",
       "      <td>2020</td>\n",
       "      <td>pHC</td>\n",
       "    </tr>\n",
       "  </tbody>\n",
       "</table>\n",
       "</div>"
      ],
      "text/plain": [
       "                                 Cells Samples      IDs       Names Fig_ids  \\\n",
       "AAACCCAAGAACTGAT-1  AAACCCAAGAACTGAT-1       1  JB19050  HPIR_021_1    pHC1   \n",
       "AAACCCAAGCGGGTTA-1  AAACCCAAGCGGGTTA-1       1  JB19050  HPIR_021_1    pHC1   \n",
       "AAACCCAAGTGTAGAT-1  AAACCCAAGTGTAGAT-1       1  JB19050  HPIR_021_1    pHC1   \n",
       "AAACCCACAACAAAGT-1  AAACCCACAACAAAGT-1       1  JB19050  HPIR_021_1    pHC1   \n",
       "AAACCCACACGACAGA-1  AAACCCACACGACAGA-1       1  JB19050  HPIR_021_1    pHC1   \n",
       "\n",
       "                   Groups Ethnicity Age_Months runs_10X  Year Patient_groups  \n",
       "AAACCCAAGAACTGAT-1    pHC         W       2.17       B1  2020            pHC  \n",
       "AAACCCAAGCGGGTTA-1    pHC         W       2.17       B1  2020            pHC  \n",
       "AAACCCAAGTGTAGAT-1    pHC         W       2.17       B1  2020            pHC  \n",
       "AAACCCACAACAAAGT-1    pHC         W       2.17       B1  2020            pHC  \n",
       "AAACCCACACGACAGA-1    pHC         W       2.17       B1  2020            pHC  "
      ]
     },
     "execution_count": 19,
     "metadata": {},
     "output_type": "execute_result"
    }
   ],
   "source": [
    "adata_raw.obs.head()"
   ]
  },
  {
   "cell_type": "code",
   "execution_count": 20,
   "metadata": {},
   "outputs": [
    {
     "data": {
      "text/html": [
       "<div>\n",
       "<style scoped>\n",
       "    .dataframe tbody tr th:only-of-type {\n",
       "        vertical-align: middle;\n",
       "    }\n",
       "\n",
       "    .dataframe tbody tr th {\n",
       "        vertical-align: top;\n",
       "    }\n",
       "\n",
       "    .dataframe thead th {\n",
       "        text-align: right;\n",
       "    }\n",
       "</style>\n",
       "<table border=\"1\" class=\"dataframe\">\n",
       "  <thead>\n",
       "    <tr style=\"text-align: right;\">\n",
       "      <th></th>\n",
       "      <th>Cells</th>\n",
       "      <th>Samples</th>\n",
       "      <th>IDs</th>\n",
       "      <th>Names</th>\n",
       "      <th>Fig_ids</th>\n",
       "      <th>Groups</th>\n",
       "      <th>Ethnicity</th>\n",
       "      <th>Age_Months</th>\n",
       "      <th>runs_10X</th>\n",
       "      <th>Year</th>\n",
       "      <th>Patient_groups</th>\n",
       "    </tr>\n",
       "  </thead>\n",
       "  <tbody>\n",
       "    <tr>\n",
       "      <th>TTTGTTGAGCGTTCCG-40</th>\n",
       "      <td>TTTGTTGAGCGTTCCG-40</td>\n",
       "      <td>40</td>\n",
       "      <td>JB21120</td>\n",
       "      <td>HPIR-031-1</td>\n",
       "      <td>pHC14</td>\n",
       "      <td>pHC</td>\n",
       "      <td>AA</td>\n",
       "      <td>2.04</td>\n",
       "      <td>B9</td>\n",
       "      <td>2021</td>\n",
       "      <td>pHC</td>\n",
       "    </tr>\n",
       "    <tr>\n",
       "      <th>TTTGTTGAGCTGACAG-40</th>\n",
       "      <td>TTTGTTGAGCTGACAG-40</td>\n",
       "      <td>40</td>\n",
       "      <td>JB21120</td>\n",
       "      <td>HPIR-031-1</td>\n",
       "      <td>pHC14</td>\n",
       "      <td>pHC</td>\n",
       "      <td>AA</td>\n",
       "      <td>2.04</td>\n",
       "      <td>B9</td>\n",
       "      <td>2021</td>\n",
       "      <td>pHC</td>\n",
       "    </tr>\n",
       "    <tr>\n",
       "      <th>TTTGTTGCAGACATCT-40</th>\n",
       "      <td>TTTGTTGCAGACATCT-40</td>\n",
       "      <td>40</td>\n",
       "      <td>JB21120</td>\n",
       "      <td>HPIR-031-1</td>\n",
       "      <td>pHC14</td>\n",
       "      <td>pHC</td>\n",
       "      <td>AA</td>\n",
       "      <td>2.04</td>\n",
       "      <td>B9</td>\n",
       "      <td>2021</td>\n",
       "      <td>pHC</td>\n",
       "    </tr>\n",
       "    <tr>\n",
       "      <th>TTTGTTGGTTCCACGG-40</th>\n",
       "      <td>TTTGTTGGTTCCACGG-40</td>\n",
       "      <td>40</td>\n",
       "      <td>JB21120</td>\n",
       "      <td>HPIR-031-1</td>\n",
       "      <td>pHC14</td>\n",
       "      <td>pHC</td>\n",
       "      <td>AA</td>\n",
       "      <td>2.04</td>\n",
       "      <td>B9</td>\n",
       "      <td>2021</td>\n",
       "      <td>pHC</td>\n",
       "    </tr>\n",
       "    <tr>\n",
       "      <th>TTTGTTGTCTTGGGCG-40</th>\n",
       "      <td>TTTGTTGTCTTGGGCG-40</td>\n",
       "      <td>40</td>\n",
       "      <td>JB21120</td>\n",
       "      <td>HPIR-031-1</td>\n",
       "      <td>pHC14</td>\n",
       "      <td>pHC</td>\n",
       "      <td>AA</td>\n",
       "      <td>2.04</td>\n",
       "      <td>B9</td>\n",
       "      <td>2021</td>\n",
       "      <td>pHC</td>\n",
       "    </tr>\n",
       "  </tbody>\n",
       "</table>\n",
       "</div>"
      ],
      "text/plain": [
       "                                   Cells Samples      IDs       Names Fig_ids  \\\n",
       "TTTGTTGAGCGTTCCG-40  TTTGTTGAGCGTTCCG-40      40  JB21120  HPIR-031-1   pHC14   \n",
       "TTTGTTGAGCTGACAG-40  TTTGTTGAGCTGACAG-40      40  JB21120  HPIR-031-1   pHC14   \n",
       "TTTGTTGCAGACATCT-40  TTTGTTGCAGACATCT-40      40  JB21120  HPIR-031-1   pHC14   \n",
       "TTTGTTGGTTCCACGG-40  TTTGTTGGTTCCACGG-40      40  JB21120  HPIR-031-1   pHC14   \n",
       "TTTGTTGTCTTGGGCG-40  TTTGTTGTCTTGGGCG-40      40  JB21120  HPIR-031-1   pHC14   \n",
       "\n",
       "                    Groups Ethnicity Age_Months runs_10X  Year Patient_groups  \n",
       "TTTGTTGAGCGTTCCG-40    pHC        AA       2.04       B9  2021            pHC  \n",
       "TTTGTTGAGCTGACAG-40    pHC        AA       2.04       B9  2021            pHC  \n",
       "TTTGTTGCAGACATCT-40    pHC        AA       2.04       B9  2021            pHC  \n",
       "TTTGTTGGTTCCACGG-40    pHC        AA       2.04       B9  2021            pHC  \n",
       "TTTGTTGTCTTGGGCG-40    pHC        AA       2.04       B9  2021            pHC  "
      ]
     },
     "execution_count": 20,
     "metadata": {},
     "output_type": "execute_result"
    }
   ],
   "source": [
    "adata_raw.obs.tail()"
   ]
  },
  {
   "cell_type": "code",
   "execution_count": 21,
   "metadata": {},
   "outputs": [
    {
     "data": {
      "text/plain": [
       "JB21101    14061\n",
       "JB19057    13257\n",
       "JB21114    11416\n",
       "JB21117    11060\n",
       "JB21103    10837\n",
       "JB21119    10760\n",
       "JB19053    10241\n",
       "JB21097     9610\n",
       "JB20076     9596\n",
       "JB21115     9495\n",
       "JB21104     9453\n",
       "JB21102     8979\n",
       "JB21120     8947\n",
       "JB21118     8703\n",
       "JB20067     8565\n",
       "JB20136     8143\n",
       "JB19056     7931\n",
       "JB21100     7901\n",
       "JB20143     7625\n",
       "JB21113     7092\n",
       "JB20078     7065\n",
       "JB20080     7036\n",
       "JB19050     6921\n",
       "JB20068     6913\n",
       "JB20138     6733\n",
       "JB20120     6710\n",
       "JB21098     6630\n",
       "JB20137     6564\n",
       "JB20079     6430\n",
       "JB20077     6398\n",
       "JB20127     6168\n",
       "JB20064     5797\n",
       "JB20066     5581\n",
       "JB19069     5523\n",
       "JB21099     5425\n",
       "JB21116     5324\n",
       "JB20121     5228\n",
       "JB19058     5151\n",
       "JB19066     4475\n",
       "JB20065     3332\n",
       "Name: IDs, dtype: int64"
      ]
     },
     "execution_count": 21,
     "metadata": {},
     "output_type": "execute_result"
    }
   ],
   "source": [
    "adata_raw.obs['IDs'].value_counts()"
   ]
  },
  {
   "cell_type": "code",
   "execution_count": 22,
   "metadata": {},
   "outputs": [
    {
     "data": {
      "text/plain": [
       "pHC    114325\n",
       "G2      87645\n",
       "G1      83631\n",
       "G3      27475\n",
       "Name: Patient_groups, dtype: int64"
      ]
     },
     "execution_count": 22,
     "metadata": {},
     "output_type": "execute_result"
    }
   ],
   "source": [
    "adata_raw.obs['Patient_groups'].value_counts()"
   ]
  },
  {
   "cell_type": "code",
   "execution_count": 23,
   "metadata": {},
   "outputs": [],
   "source": [
    "%%R \n",
    "#---- save cells per meta data \n",
    "write.csv(meta, file=\"../Meta/Meta_pCov40_withSampleInfo_04132021.csv\")"
   ]
  },
  {
   "cell_type": "code",
   "execution_count": 24,
   "metadata": {},
   "outputs": [
    {
     "data": {
      "text/html": [
       "<div>\n",
       "<style scoped>\n",
       "    .dataframe tbody tr th:only-of-type {\n",
       "        vertical-align: middle;\n",
       "    }\n",
       "\n",
       "    .dataframe tbody tr th {\n",
       "        vertical-align: top;\n",
       "    }\n",
       "\n",
       "    .dataframe thead th {\n",
       "        text-align: right;\n",
       "    }\n",
       "</style>\n",
       "<table border=\"1\" class=\"dataframe\">\n",
       "  <thead>\n",
       "    <tr style=\"text-align: right;\">\n",
       "      <th></th>\n",
       "      <th>Samples</th>\n",
       "      <th>IDs</th>\n",
       "      <th>Names</th>\n",
       "      <th>Fig_ids</th>\n",
       "      <th>Groups</th>\n",
       "      <th>Gender</th>\n",
       "      <th>Ethnicity</th>\n",
       "      <th>Age_Months</th>\n",
       "      <th>runs_10X</th>\n",
       "      <th>Year</th>\n",
       "      <th>Patient_groups</th>\n",
       "    </tr>\n",
       "  </thead>\n",
       "  <tbody>\n",
       "    <tr>\n",
       "      <th>AAACCCAAGAACTGAT-1</th>\n",
       "      <td>1</td>\n",
       "      <td>JB19050</td>\n",
       "      <td>HPIR_021_1</td>\n",
       "      <td>pHC1</td>\n",
       "      <td>pHC</td>\n",
       "      <td>F</td>\n",
       "      <td>W</td>\n",
       "      <td>2.17</td>\n",
       "      <td>B1</td>\n",
       "      <td>2020</td>\n",
       "      <td>pHC</td>\n",
       "    </tr>\n",
       "    <tr>\n",
       "      <th>AAACCCAAGCGGGTTA-1</th>\n",
       "      <td>1</td>\n",
       "      <td>JB19050</td>\n",
       "      <td>HPIR_021_1</td>\n",
       "      <td>pHC1</td>\n",
       "      <td>pHC</td>\n",
       "      <td>F</td>\n",
       "      <td>W</td>\n",
       "      <td>2.17</td>\n",
       "      <td>B1</td>\n",
       "      <td>2020</td>\n",
       "      <td>pHC</td>\n",
       "    </tr>\n",
       "    <tr>\n",
       "      <th>AAACCCAAGTGTAGAT-1</th>\n",
       "      <td>1</td>\n",
       "      <td>JB19050</td>\n",
       "      <td>HPIR_021_1</td>\n",
       "      <td>pHC1</td>\n",
       "      <td>pHC</td>\n",
       "      <td>F</td>\n",
       "      <td>W</td>\n",
       "      <td>2.17</td>\n",
       "      <td>B1</td>\n",
       "      <td>2020</td>\n",
       "      <td>pHC</td>\n",
       "    </tr>\n",
       "    <tr>\n",
       "      <th>AAACCCACAACAAAGT-1</th>\n",
       "      <td>1</td>\n",
       "      <td>JB19050</td>\n",
       "      <td>HPIR_021_1</td>\n",
       "      <td>pHC1</td>\n",
       "      <td>pHC</td>\n",
       "      <td>F</td>\n",
       "      <td>W</td>\n",
       "      <td>2.17</td>\n",
       "      <td>B1</td>\n",
       "      <td>2020</td>\n",
       "      <td>pHC</td>\n",
       "    </tr>\n",
       "    <tr>\n",
       "      <th>AAACCCACACGACAGA-1</th>\n",
       "      <td>1</td>\n",
       "      <td>JB19050</td>\n",
       "      <td>HPIR_021_1</td>\n",
       "      <td>pHC1</td>\n",
       "      <td>pHC</td>\n",
       "      <td>F</td>\n",
       "      <td>W</td>\n",
       "      <td>2.17</td>\n",
       "      <td>B1</td>\n",
       "      <td>2020</td>\n",
       "      <td>pHC</td>\n",
       "    </tr>\n",
       "  </tbody>\n",
       "</table>\n",
       "</div>"
      ],
      "text/plain": [
       "                    Samples      IDs       Names Fig_ids Groups Gender  \\\n",
       "AAACCCAAGAACTGAT-1        1  JB19050  HPIR_021_1    pHC1    pHC      F   \n",
       "AAACCCAAGCGGGTTA-1        1  JB19050  HPIR_021_1    pHC1    pHC      F   \n",
       "AAACCCAAGTGTAGAT-1        1  JB19050  HPIR_021_1    pHC1    pHC      F   \n",
       "AAACCCACAACAAAGT-1        1  JB19050  HPIR_021_1    pHC1    pHC      F   \n",
       "AAACCCACACGACAGA-1        1  JB19050  HPIR_021_1    pHC1    pHC      F   \n",
       "\n",
       "                   Ethnicity  Age_Months runs_10X  Year Patient_groups  \n",
       "AAACCCAAGAACTGAT-1         W        2.17       B1  2020            pHC  \n",
       "AAACCCAAGCGGGTTA-1         W        2.17       B1  2020            pHC  \n",
       "AAACCCAAGTGTAGAT-1         W        2.17       B1  2020            pHC  \n",
       "AAACCCACAACAAAGT-1         W        2.17       B1  2020            pHC  \n",
       "AAACCCACACGACAGA-1         W        2.17       B1  2020            pHC  "
      ]
     },
     "execution_count": 24,
     "metadata": {},
     "output_type": "execute_result"
    }
   ],
   "source": [
    "#---- read cells per meta data \n",
    "Meta = pd.read_csv(\"../Meta/Meta_pCov40_withSampleInfo_04132021.csv\", index_col=0)\n",
    "Meta.head()"
   ]
  },
  {
   "cell_type": "code",
   "execution_count": 25,
   "metadata": {},
   "outputs": [
    {
     "data": {
      "text/html": [
       "<div>\n",
       "<style scoped>\n",
       "    .dataframe tbody tr th:only-of-type {\n",
       "        vertical-align: middle;\n",
       "    }\n",
       "\n",
       "    .dataframe tbody tr th {\n",
       "        vertical-align: top;\n",
       "    }\n",
       "\n",
       "    .dataframe thead th {\n",
       "        text-align: right;\n",
       "    }\n",
       "</style>\n",
       "<table border=\"1\" class=\"dataframe\">\n",
       "  <thead>\n",
       "    <tr style=\"text-align: right;\">\n",
       "      <th></th>\n",
       "      <th>Cells</th>\n",
       "      <th>Samples</th>\n",
       "      <th>IDs</th>\n",
       "      <th>Names</th>\n",
       "      <th>Fig_ids</th>\n",
       "      <th>Groups</th>\n",
       "      <th>Ethnicity</th>\n",
       "      <th>Age_Months</th>\n",
       "      <th>runs_10X</th>\n",
       "      <th>Year</th>\n",
       "      <th>Patient_groups</th>\n",
       "    </tr>\n",
       "  </thead>\n",
       "  <tbody>\n",
       "    <tr>\n",
       "      <th>AAACCCAAGAACTGAT-1</th>\n",
       "      <td>AAACCCAAGAACTGAT-1</td>\n",
       "      <td>1</td>\n",
       "      <td>JB19050</td>\n",
       "      <td>HPIR_021_1</td>\n",
       "      <td>pHC1</td>\n",
       "      <td>pHC</td>\n",
       "      <td>W</td>\n",
       "      <td>2.17</td>\n",
       "      <td>B1</td>\n",
       "      <td>2020</td>\n",
       "      <td>pHC</td>\n",
       "    </tr>\n",
       "    <tr>\n",
       "      <th>AAACCCAAGCGGGTTA-1</th>\n",
       "      <td>AAACCCAAGCGGGTTA-1</td>\n",
       "      <td>1</td>\n",
       "      <td>JB19050</td>\n",
       "      <td>HPIR_021_1</td>\n",
       "      <td>pHC1</td>\n",
       "      <td>pHC</td>\n",
       "      <td>W</td>\n",
       "      <td>2.17</td>\n",
       "      <td>B1</td>\n",
       "      <td>2020</td>\n",
       "      <td>pHC</td>\n",
       "    </tr>\n",
       "    <tr>\n",
       "      <th>AAACCCAAGTGTAGAT-1</th>\n",
       "      <td>AAACCCAAGTGTAGAT-1</td>\n",
       "      <td>1</td>\n",
       "      <td>JB19050</td>\n",
       "      <td>HPIR_021_1</td>\n",
       "      <td>pHC1</td>\n",
       "      <td>pHC</td>\n",
       "      <td>W</td>\n",
       "      <td>2.17</td>\n",
       "      <td>B1</td>\n",
       "      <td>2020</td>\n",
       "      <td>pHC</td>\n",
       "    </tr>\n",
       "    <tr>\n",
       "      <th>AAACCCACAACAAAGT-1</th>\n",
       "      <td>AAACCCACAACAAAGT-1</td>\n",
       "      <td>1</td>\n",
       "      <td>JB19050</td>\n",
       "      <td>HPIR_021_1</td>\n",
       "      <td>pHC1</td>\n",
       "      <td>pHC</td>\n",
       "      <td>W</td>\n",
       "      <td>2.17</td>\n",
       "      <td>B1</td>\n",
       "      <td>2020</td>\n",
       "      <td>pHC</td>\n",
       "    </tr>\n",
       "    <tr>\n",
       "      <th>AAACCCACACGACAGA-1</th>\n",
       "      <td>AAACCCACACGACAGA-1</td>\n",
       "      <td>1</td>\n",
       "      <td>JB19050</td>\n",
       "      <td>HPIR_021_1</td>\n",
       "      <td>pHC1</td>\n",
       "      <td>pHC</td>\n",
       "      <td>W</td>\n",
       "      <td>2.17</td>\n",
       "      <td>B1</td>\n",
       "      <td>2020</td>\n",
       "      <td>pHC</td>\n",
       "    </tr>\n",
       "  </tbody>\n",
       "</table>\n",
       "</div>"
      ],
      "text/plain": [
       "                                 Cells Samples      IDs       Names Fig_ids  \\\n",
       "AAACCCAAGAACTGAT-1  AAACCCAAGAACTGAT-1       1  JB19050  HPIR_021_1    pHC1   \n",
       "AAACCCAAGCGGGTTA-1  AAACCCAAGCGGGTTA-1       1  JB19050  HPIR_021_1    pHC1   \n",
       "AAACCCAAGTGTAGAT-1  AAACCCAAGTGTAGAT-1       1  JB19050  HPIR_021_1    pHC1   \n",
       "AAACCCACAACAAAGT-1  AAACCCACAACAAAGT-1       1  JB19050  HPIR_021_1    pHC1   \n",
       "AAACCCACACGACAGA-1  AAACCCACACGACAGA-1       1  JB19050  HPIR_021_1    pHC1   \n",
       "\n",
       "                   Groups Ethnicity Age_Months runs_10X  Year Patient_groups  \n",
       "AAACCCAAGAACTGAT-1    pHC         W       2.17       B1  2020            pHC  \n",
       "AAACCCAAGCGGGTTA-1    pHC         W       2.17       B1  2020            pHC  \n",
       "AAACCCAAGTGTAGAT-1    pHC         W       2.17       B1  2020            pHC  \n",
       "AAACCCACAACAAAGT-1    pHC         W       2.17       B1  2020            pHC  \n",
       "AAACCCACACGACAGA-1    pHC         W       2.17       B1  2020            pHC  "
      ]
     },
     "execution_count": 25,
     "metadata": {},
     "output_type": "execute_result"
    }
   ],
   "source": [
    "adata_raw.obs.head()"
   ]
  },
  {
   "cell_type": "code",
   "execution_count": 26,
   "metadata": {},
   "outputs": [
    {
     "name": "stderr",
     "output_type": "stream",
     "text": [
      "/home/nehard/anaconda3/envs/Hnunu/lib/python3.6/site-packages/anndata/_core/anndata.py:1192: FutureWarning: is_categorical is deprecated and will be removed in a future version.  Use is_categorical_dtype instead\n",
      "  if is_string_dtype(df[key]) and not is_categorical(df[key])\n",
      "... storing 'Samples' as categorical\n",
      "... storing 'IDs' as categorical\n",
      "... storing 'Names' as categorical\n",
      "... storing 'Fig_ids' as categorical\n",
      "... storing 'Groups' as categorical\n",
      "... storing 'Ethnicity' as categorical\n",
      "... storing 'Age_Months' as categorical\n",
      "... storing 'runs_10X' as categorical\n",
      "... storing 'Year' as categorical\n",
      "... storing 'Patient_groups' as categorical\n"
     ]
    }
   ],
   "source": [
    "adata_raw.write('../H5AD/pCov40_raw_BS_withSampleInfo_04132021.h5ad')"
   ]
  },
  {
   "cell_type": "code",
   "execution_count": 27,
   "metadata": {},
   "outputs": [
    {
     "data": {
      "text/plain": [
       "AnnData object with n_obs × n_vars = 313076 × 33538\n",
       "    obs: 'Cells', 'Samples', 'IDs', 'Names', 'Fig_ids', 'Groups', 'Ethnicity', 'Age_Months', 'runs_10X', 'Year', 'Patient_groups'\n",
       "    var: 'gene_ids', 'feature_types'"
      ]
     },
     "execution_count": 27,
     "metadata": {},
     "output_type": "execute_result"
    }
   ],
   "source": [
    "adata_raw"
   ]
  },
  {
   "cell_type": "markdown",
   "metadata": {},
   "source": [
    "# Step 2: Switch to scanpy1_6 py envir"
   ]
  },
  {
   "cell_type": "code",
   "execution_count": 1,
   "metadata": {},
   "outputs": [
    {
     "name": "stdout",
     "output_type": "stream",
     "text": [
      "scanpy==1.6.0 anndata==0.7.4 umap==0.4.6 numpy==1.19.1 scipy==1.5.2 pandas==1.1.1 scikit-learn==0.23.2 statsmodels==0.11.1 python-igraph==0.8.2 leidenalg==0.8.1\n"
     ]
    }
   ],
   "source": [
    "import numpy as np\n",
    "import pandas as pd\n",
    "import scanpy as sc\n",
    "\n",
    "%matplotlib inline\n",
    "import scrublet as scr\n",
    "import scipy.io\n",
    "import os\n",
    "\n",
    "#from matplotlib import rcParams\n",
    "sc.logging.print_header()\n",
    "\n",
    "import matplotlib\n",
    "import matplotlib.pyplot as plt\n",
    "matplotlib.style.use('default')  \n",
    "\n",
    "sc.settings.set_figure_params(dpi=80)\n",
    "#sc.logging.print_versions()\n",
    "\n",
    "import re\n",
    "import glob"
   ]
  },
  {
   "cell_type": "code",
   "execution_count": 2,
   "metadata": {},
   "outputs": [],
   "source": [
    "sc.settings.verbosity = 3  # verbosity: errors (0), warnings (1), info (2), hints (3)"
   ]
  },
  {
   "cell_type": "code",
   "execution_count": 34,
   "metadata": {},
   "outputs": [
    {
     "data": {
      "text/plain": [
       "AnnData object with n_obs × n_vars = 313076 × 33538\n",
       "    obs: 'Cells', 'Samples', 'IDs', 'Names', 'Fig_ids', 'Groups', 'Ethnicity', 'Age_Months', 'runs_10X', 'Year', 'Patient_groups'\n",
       "    var: 'gene_ids', 'feature_types'"
      ]
     },
     "execution_count": 34,
     "metadata": {},
     "output_type": "execute_result"
    }
   ],
   "source": [
    "adata_BS =sc.read('../H5AD/pCov40_raw_BS_withSampleInfo_04132021.h5ad')\n",
    "adata_BS"
   ]
  },
  {
   "cell_type": "code",
   "execution_count": 35,
   "metadata": {},
   "outputs": [],
   "source": [
    "names = np.unique(list(adata_BS.obs['IDs']))"
   ]
  },
  {
   "cell_type": "code",
   "execution_count": 36,
   "metadata": {},
   "outputs": [
    {
     "data": {
      "text/plain": [
       "40"
      ]
     },
     "execution_count": 36,
     "metadata": {},
     "output_type": "execute_result"
    }
   ],
   "source": [
    "len(names)"
   ]
  },
  {
   "cell_type": "code",
   "execution_count": 37,
   "metadata": {},
   "outputs": [
    {
     "data": {
      "text/plain": [
       "array(['JB19050', 'JB19053', 'JB19056', 'JB19057', 'JB19058', 'JB19066',\n",
       "       'JB19069', 'JB20064', 'JB20065', 'JB20066', 'JB20067', 'JB20068',\n",
       "       'JB20076', 'JB20077', 'JB20078', 'JB20079', 'JB20080', 'JB20120',\n",
       "       'JB20121', 'JB20127', 'JB20136', 'JB20137', 'JB20138', 'JB20143',\n",
       "       'JB21097', 'JB21098', 'JB21099', 'JB21100', 'JB21101', 'JB21102',\n",
       "       'JB21103', 'JB21104', 'JB21113', 'JB21114', 'JB21115', 'JB21116',\n",
       "       'JB21117', 'JB21118', 'JB21119', 'JB21120'], dtype='<U7')"
      ]
     },
     "execution_count": 37,
     "metadata": {},
     "output_type": "execute_result"
    }
   ],
   "source": [
    "names"
   ]
  },
  {
   "cell_type": "code",
   "execution_count": null,
   "metadata": {},
   "outputs": [],
   "source": [
    "#JB21114 did not work with  an automatic threshold"
   ]
  },
  {
   "cell_type": "markdown",
   "metadata": {},
   "source": [
    "# The case of JB21114"
   ]
  },
  {
   "cell_type": "code",
   "execution_count": 19,
   "metadata": {},
   "outputs": [],
   "source": [
    "names=['JB21114']"
   ]
  },
  {
   "cell_type": "code",
   "execution_count": 28,
   "metadata": {},
   "outputs": [
    {
     "name": "stdout",
     "output_type": "stream",
     "text": [
      "Detected doublet rate = 1.7%\n",
      "Estimated detectable doublet fraction = 13.4%\n",
      "Overall doublet rate:\n",
      "\tExpected   = 10.0%\n",
      "\tEstimated  = 12.5%\n"
     ]
    },
    {
     "name": "stderr",
     "output_type": "stream",
     "text": [
      "/home/nehard/anaconda3/envs/scanpy1_6/lib/python3.6/site-packages/anndata/_core/anndata.py:1094: FutureWarning: is_categorical is deprecated and will be removed in a future version.  Use is_categorical_dtype instead\n",
      "  if not is_categorical(df_full[k]):\n"
     ]
    },
    {
     "name": "stdout",
     "output_type": "stream",
     "text": [
      "Preprocessing...\n",
      "Simulating doublets...\n",
      "Embedding transcriptomes using PCA...\n",
      "Calculating doublet scores...\n",
      "Automatically set threshold at doublet score = 0.66\n",
      "Detected doublet rate = 0.2%\n",
      "Estimated detectable doublet fraction = 3.7%\n",
      "Overall doublet rate:\n",
      "\tExpected   = 10.0%\n",
      "\tEstimated  = 5.5%\n",
      "Elapsed time: 14.0 seconds\n",
      "Running UMAP..\n"
     ]
    },
    {
     "name": "stderr",
     "output_type": "stream",
     "text": [
      "Trying to set attribute `.obs` of view, copying.\n"
     ]
    },
    {
     "name": "stdout",
     "output_type": "stream",
     "text": [
      "Done.\n"
     ]
    },
    {
     "data": {
      "image/png": "[encoded data removed]",
      "text/plain": [
       "<Figure size 640x240 with 2 Axes>"
      ]
     },
     "metadata": {
      "image/png": {
       "height": 223,
       "width": 626
      }
     },
     "output_type": "display_data"
    }
   ],
   "source": [
    "for sample in names:\n",
    "    #scrub.call_doublets(threshold=0.4)\n",
    "    #assert scrub.predicted_doublets_ == None\n",
    "    predicted_doublet_mask = scrub.call_doublets(threshold=0.4)\n",
    "\n",
    "    cells_of_interest = adata_BS.obs.loc[adata_BS.obs[\"IDs\"] == sample, :].index\n",
    "    \n",
    "    adata_i = adata_BS[cells_of_interest, :]\n",
    "\n",
    "\n",
    "    scrub = scr.Scrublet(adata_i.X)#, expected_doublet_rate=0.06) #**\n",
    "    \n",
    "    #doublet_scores, predicted_doublets = scrub.scrub_doublets(min_counts=2, min_cells=3, min_gene_variability_pctl=85,n_prin_comps=30)\n",
    "        \n",
    "    doublet_scores, predicted_doublets = scrub.scrub_doublets()\n",
    "    \n",
    "    scrub.plot_histogram();\n",
    "    \n",
    "    print('Running UMAP..')\n",
    "        \n",
    "    scrub.set_embedding('UMAP', scr.get_umap(scrub.manifold_obs_, 10, min_dist=0.3))\n",
    "        \n",
    "    print('Done.')\n",
    "        \n",
    "    #scrub.plot_embedding('UMAP', order_points=True);\n",
    "    #doublet_score= pd.DataFrame({'doublet_scores' :list(doublet_scores),'predicted_doublets': list(predicted_doublets)})\n",
    "    \n",
    "    adata_i.obs['doublet_score']=scrub.doublet_scores_obs_\n",
    "    adata_i.uns['sim_doublet_score']=scrub.doublet_scores_sim_\n",
    "        \n",
    "    adata_i.obs[['doublet_score']].to_csv('../Files/'+ sample + \"_Scrub.csv\")\n",
    "    \n",
    "    continue\n",
    "    "
   ]
  },
  {
   "cell_type": "markdown",
   "metadata": {},
   "source": [
    "# rest of the samples"
   ]
  },
  {
   "cell_type": "code",
   "execution_count": 11,
   "metadata": {},
   "outputs": [],
   "source": [
    "names=['JB21115', 'JB21116','JB21117', 'JB21118', 'JB21119', 'JB21120']"
   ]
  },
  {
   "cell_type": "markdown",
   "metadata": {},
   "source": [
    "# Run scrublet through the 6 samples (per sample):\n",
    "#as recommanded here: #https://github.com/AllonKleinLab/scrublet"
   ]
  },
  {
   "cell_type": "code",
   "execution_count": 12,
   "metadata": {},
   "outputs": [
    {
     "name": "stderr",
     "output_type": "stream",
     "text": [
      "/home/nehard/anaconda3/envs/scanpy1_6/lib/python3.6/site-packages/anndata/_core/anndata.py:1094: FutureWarning: is_categorical is deprecated and will be removed in a future version.  Use is_categorical_dtype instead\n",
      "  if not is_categorical(df_full[k]):\n"
     ]
    },
    {
     "name": "stdout",
     "output_type": "stream",
     "text": [
      "Preprocessing...\n",
      "Simulating doublets...\n",
      "Embedding transcriptomes using PCA...\n",
      "Calculating doublet scores...\n",
      "Automatically set threshold at doublet score = 0.26\n",
      "Detected doublet rate = 3.3%\n",
      "Estimated detectable doublet fraction = 43.4%\n",
      "Overall doublet rate:\n",
      "\tExpected   = 6.0%\n",
      "\tEstimated  = 7.6%\n",
      "Elapsed time: 10.6 seconds\n",
      "Running UMAP..\n"
     ]
    },
    {
     "name": "stderr",
     "output_type": "stream",
     "text": [
      "Trying to set attribute `.obs` of view, copying.\n"
     ]
    },
    {
     "name": "stdout",
     "output_type": "stream",
     "text": [
      "Done.\n"
     ]
    },
    {
     "name": "stderr",
     "output_type": "stream",
     "text": [
      "/home/nehard/anaconda3/envs/scanpy1_6/lib/python3.6/site-packages/anndata/_core/anndata.py:1094: FutureWarning: is_categorical is deprecated and will be removed in a future version.  Use is_categorical_dtype instead\n",
      "  if not is_categorical(df_full[k]):\n"
     ]
    },
    {
     "name": "stdout",
     "output_type": "stream",
     "text": [
      "Preprocessing...\n",
      "Simulating doublets...\n",
      "Embedding transcriptomes using PCA...\n",
      "Calculating doublet scores...\n",
      "Automatically set threshold at doublet score = 0.29\n",
      "Detected doublet rate = 1.7%\n",
      "Estimated detectable doublet fraction = 42.4%\n",
      "Overall doublet rate:\n",
      "\tExpected   = 6.0%\n",
      "\tEstimated  = 4.1%\n",
      "Elapsed time: 5.4 seconds\n",
      "Running UMAP..\n"
     ]
    },
    {
     "name": "stderr",
     "output_type": "stream",
     "text": [
      "Trying to set attribute `.obs` of view, copying.\n"
     ]
    },
    {
     "name": "stdout",
     "output_type": "stream",
     "text": [
      "Done.\n"
     ]
    },
    {
     "name": "stderr",
     "output_type": "stream",
     "text": [
      "/home/nehard/anaconda3/envs/scanpy1_6/lib/python3.6/site-packages/anndata/_core/anndata.py:1094: FutureWarning: is_categorical is deprecated and will be removed in a future version.  Use is_categorical_dtype instead\n",
      "  if not is_categorical(df_full[k]):\n"
     ]
    },
    {
     "name": "stdout",
     "output_type": "stream",
     "text": [
      "Preprocessing...\n",
      "Simulating doublets...\n",
      "Embedding transcriptomes using PCA...\n",
      "Calculating doublet scores...\n",
      "Automatically set threshold at doublet score = 0.26\n",
      "Detected doublet rate = 3.7%\n",
      "Estimated detectable doublet fraction = 48.6%\n",
      "Overall doublet rate:\n",
      "\tExpected   = 6.0%\n",
      "\tEstimated  = 7.6%\n",
      "Elapsed time: 12.3 seconds\n",
      "Running UMAP..\n"
     ]
    },
    {
     "name": "stderr",
     "output_type": "stream",
     "text": [
      "Trying to set attribute `.obs` of view, copying.\n"
     ]
    },
    {
     "name": "stdout",
     "output_type": "stream",
     "text": [
      "Done.\n"
     ]
    },
    {
     "name": "stderr",
     "output_type": "stream",
     "text": [
      "/home/nehard/anaconda3/envs/scanpy1_6/lib/python3.6/site-packages/anndata/_core/anndata.py:1094: FutureWarning: is_categorical is deprecated and will be removed in a future version.  Use is_categorical_dtype instead\n",
      "  if not is_categorical(df_full[k]):\n"
     ]
    },
    {
     "name": "stdout",
     "output_type": "stream",
     "text": [
      "Preprocessing...\n",
      "Simulating doublets...\n",
      "Embedding transcriptomes using PCA...\n",
      "Calculating doublet scores...\n",
      "Automatically set threshold at doublet score = 0.33\n",
      "Detected doublet rate = 2.0%\n",
      "Estimated detectable doublet fraction = 33.6%\n",
      "Overall doublet rate:\n",
      "\tExpected   = 6.0%\n",
      "\tEstimated  = 6.0%\n",
      "Elapsed time: 9.5 seconds\n",
      "Running UMAP..\n"
     ]
    },
    {
     "name": "stderr",
     "output_type": "stream",
     "text": [
      "Trying to set attribute `.obs` of view, copying.\n"
     ]
    },
    {
     "name": "stdout",
     "output_type": "stream",
     "text": [
      "Done.\n"
     ]
    },
    {
     "name": "stderr",
     "output_type": "stream",
     "text": [
      "/home/nehard/anaconda3/envs/scanpy1_6/lib/python3.6/site-packages/anndata/_core/anndata.py:1094: FutureWarning: is_categorical is deprecated and will be removed in a future version.  Use is_categorical_dtype instead\n",
      "  if not is_categorical(df_full[k]):\n"
     ]
    },
    {
     "name": "stdout",
     "output_type": "stream",
     "text": [
      "Preprocessing...\n",
      "Simulating doublets...\n",
      "Embedding transcriptomes using PCA...\n",
      "Calculating doublet scores...\n",
      "Automatically set threshold at doublet score = 0.27\n",
      "Detected doublet rate = 3.2%\n",
      "Estimated detectable doublet fraction = 45.7%\n",
      "Overall doublet rate:\n",
      "\tExpected   = 6.0%\n",
      "\tEstimated  = 6.9%\n",
      "Elapsed time: 11.9 seconds\n",
      "Running UMAP..\n"
     ]
    },
    {
     "name": "stderr",
     "output_type": "stream",
     "text": [
      "Trying to set attribute `.obs` of view, copying.\n"
     ]
    },
    {
     "name": "stdout",
     "output_type": "stream",
     "text": [
      "Done.\n"
     ]
    },
    {
     "name": "stderr",
     "output_type": "stream",
     "text": [
      "/home/nehard/anaconda3/envs/scanpy1_6/lib/python3.6/site-packages/anndata/_core/anndata.py:1094: FutureWarning: is_categorical is deprecated and will be removed in a future version.  Use is_categorical_dtype instead\n",
      "  if not is_categorical(df_full[k]):\n"
     ]
    },
    {
     "name": "stdout",
     "output_type": "stream",
     "text": [
      "Preprocessing...\n",
      "Simulating doublets...\n",
      "Embedding transcriptomes using PCA...\n",
      "Calculating doublet scores...\n",
      "Automatically set threshold at doublet score = 0.32\n",
      "Detected doublet rate = 2.2%\n",
      "Estimated detectable doublet fraction = 36.5%\n",
      "Overall doublet rate:\n",
      "\tExpected   = 6.0%\n",
      "\tEstimated  = 5.9%\n",
      "Elapsed time: 9.6 seconds\n",
      "Running UMAP..\n"
     ]
    },
    {
     "name": "stderr",
     "output_type": "stream",
     "text": [
      "Trying to set attribute `.obs` of view, copying.\n"
     ]
    },
    {
     "name": "stdout",
     "output_type": "stream",
     "text": [
      "Done.\n"
     ]
    },
    {
     "data": {
      "image/png": "[encoded data removed]",
      "text/plain": [
       "<Figure size 640x240 with 2 Axes>"
      ]
     },
     "metadata": {
      "image/png": {
       "height": 223,
       "width": 626
      }
     },
     "output_type": "display_data"
    },
    {
     "data": {
      "image/png": "[encoded data removed]",
      "text/plain": [
       "<Figure size 640x240 with 2 Axes>"
      ]
     },
     "metadata": {
      "image/png": {
       "height": 223,
       "width": 626
      }
     },
     "output_type": "display_data"
    },
    {
     "data": {
      "image/png": "[encoded data removed]",
      "text/plain": [
       "<Figure size 640x240 with 2 Axes>"
      ]
     },
     "metadata": {
      "image/png": {
       "height": 223,
       "width": 626
      }
     },
     "output_type": "display_data"
    },
    {
     "data": {
      "image/png": "[encoded data removed]",
      "text/plain": [
       "<Figure size 640x240 with 2 Axes>"
      ]
     },
     "metadata": {
      "image/png": {
       "height": 223,
       "width": 626
      }
     },
     "output_type": "display_data"
    },
    {
     "data": {
      "image/png": "[encoded data removed]",
      "text/plain": [
       "<Figure size 640x240 with 2 Axes>"
      ]
     },
     "metadata": {
      "image/png": {
       "height": 223,
       "width": 626
      }
     },
     "output_type": "display_data"
    },
    {
     "data": {
      "image/png": "[encoded data removed]",
      "text/plain": [
       "<Figure size 640x240 with 2 Axes>"
      ]
     },
     "metadata": {
      "image/png": {
       "height": 223,
       "width": 626
      }
     },
     "output_type": "display_data"
    }
   ],
   "source": [
    "for sample in names:\n",
    "    \n",
    "    cells_of_interest = adata_BS.obs.loc[adata_BS.obs[\"IDs\"] == sample, :].index\n",
    "    \n",
    "    adata_i = adata_BS[cells_of_interest, :]\n",
    "    \n",
    "    scrub = scr.Scrublet(adata_i.X, expected_doublet_rate=0.06) #**\n",
    "    \n",
    "    doublet_scores, predicted_doublets = scrub.scrub_doublets(min_counts=2, \n",
    "                                                          min_cells=3, \n",
    "                                                          min_gene_variability_pctl=85, \n",
    "                                                          n_prin_comps=30)\n",
    "    scrub.plot_histogram();\n",
    "    \n",
    "    print('Running UMAP..')\n",
    "        \n",
    "    scrub.set_embedding('UMAP', scr.get_umap(scrub.manifold_obs_, 10, min_dist=0.3))\n",
    "        \n",
    "    print('Done.')\n",
    "        \n",
    "    #scrub.plot_embedding('UMAP', order_points=True);\n",
    "    \n",
    "    #doublet_score= pd.DataFrame({'doublet_scores' :list(doublet_scores),'predicted_doublets': list(predicted_doublets)})\n",
    "        \n",
    "    adata_i.obs['doublet_score']=scrub.doublet_scores_obs_\n",
    "    adata_i.uns['sim_doublet_score']=scrub.doublet_scores_sim_\n",
    "        \n",
    "    adata_i.obs[['doublet_score']].to_csv('../Files/'+ sample + \"_Scrub.csv\")\n",
    "    \n",
    "    continue\n",
    "    "
   ]
  },
  {
   "cell_type": "markdown",
   "metadata": {},
   "source": [
    "# Aggregate scrublet output .csv files"
   ]
  },
  {
   "cell_type": "code",
   "execution_count": 29,
   "metadata": {},
   "outputs": [],
   "source": [
    "import re"
   ]
  },
  {
   "cell_type": "code",
   "execution_count": 30,
   "metadata": {},
   "outputs": [],
   "source": [
    "import glob\n",
    "\n",
    "path = r'../Files/' # use your path\n",
    "all_files = glob.glob(path + \"/*.csv\")\n",
    "\n",
    "li = []\n",
    "\n",
    "for filename in all_files:\n",
    "    df = pd.read_csv(filename, index_col=None, header=0)\n",
    "    li.append(df)\n",
    "\n",
    "frame = pd.concat(li, axis=0, ignore_index=True)\n"
   ]
  },
  {
   "cell_type": "code",
   "execution_count": 31,
   "metadata": {},
   "outputs": [],
   "source": [
    "frame['index']=frame['Unnamed: 0']"
   ]
  },
  {
   "cell_type": "code",
   "execution_count": 32,
   "metadata": {},
   "outputs": [
    {
     "data": {
      "text/html": [
       "<div>\n",
       "<style scoped>\n",
       "    .dataframe tbody tr th:only-of-type {\n",
       "        vertical-align: middle;\n",
       "    }\n",
       "\n",
       "    .dataframe tbody tr th {\n",
       "        vertical-align: top;\n",
       "    }\n",
       "\n",
       "    .dataframe thead th {\n",
       "        text-align: right;\n",
       "    }\n",
       "</style>\n",
       "<table border=\"1\" class=\"dataframe\">\n",
       "  <thead>\n",
       "    <tr style=\"text-align: right;\">\n",
       "      <th></th>\n",
       "      <th>Unnamed: 0</th>\n",
       "      <th>doublet_score</th>\n",
       "      <th>index</th>\n",
       "    </tr>\n",
       "  </thead>\n",
       "  <tbody>\n",
       "    <tr>\n",
       "      <th>0</th>\n",
       "      <td>AAACCCAAGCACTTTG-33</td>\n",
       "      <td>0.102319</td>\n",
       "      <td>AAACCCAAGCACTTTG-33</td>\n",
       "    </tr>\n",
       "    <tr>\n",
       "      <th>1</th>\n",
       "      <td>AAACCCAAGTTCCGGC-33</td>\n",
       "      <td>0.098247</td>\n",
       "      <td>AAACCCAAGTTCCGGC-33</td>\n",
       "    </tr>\n",
       "    <tr>\n",
       "      <th>2</th>\n",
       "      <td>AAACCCACAAAGGCTG-33</td>\n",
       "      <td>0.106653</td>\n",
       "      <td>AAACCCACAAAGGCTG-33</td>\n",
       "    </tr>\n",
       "    <tr>\n",
       "      <th>3</th>\n",
       "      <td>AAACCCACAAGGTCAG-33</td>\n",
       "      <td>0.030005</td>\n",
       "      <td>AAACCCACAAGGTCAG-33</td>\n",
       "    </tr>\n",
       "    <tr>\n",
       "      <th>4</th>\n",
       "      <td>AAACCCACAGACAAGC-33</td>\n",
       "      <td>0.067887</td>\n",
       "      <td>AAACCCACAGACAAGC-33</td>\n",
       "    </tr>\n",
       "  </tbody>\n",
       "</table>\n",
       "</div>"
      ],
      "text/plain": [
       "            Unnamed: 0  doublet_score                index\n",
       "0  AAACCCAAGCACTTTG-33       0.102319  AAACCCAAGCACTTTG-33\n",
       "1  AAACCCAAGTTCCGGC-33       0.098247  AAACCCAAGTTCCGGC-33\n",
       "2  AAACCCACAAAGGCTG-33       0.106653  AAACCCACAAAGGCTG-33\n",
       "3  AAACCCACAAGGTCAG-33       0.030005  AAACCCACAAGGTCAG-33\n",
       "4  AAACCCACAGACAAGC-33       0.067887  AAACCCACAGACAAGC-33"
      ]
     },
     "execution_count": 32,
     "metadata": {},
     "output_type": "execute_result"
    }
   ],
   "source": [
    "frame.head()"
   ]
  },
  {
   "cell_type": "code",
   "execution_count": 33,
   "metadata": {},
   "outputs": [],
   "source": [
    "frame.to_csv(\"../Files/comb_csv_pCov40.csv\", index=False) "
   ]
  },
  {
   "cell_type": "code",
   "execution_count": 28,
   "metadata": {},
   "outputs": [],
   "source": [
    "Scru = pd.read_csv(\"../Files/comb_csv_pCov40.csv\",header=0)"
   ]
  },
  {
   "cell_type": "code",
   "execution_count": 29,
   "metadata": {},
   "outputs": [
    {
     "data": {
      "text/html": [
       "<div>\n",
       "<style scoped>\n",
       "    .dataframe tbody tr th:only-of-type {\n",
       "        vertical-align: middle;\n",
       "    }\n",
       "\n",
       "    .dataframe tbody tr th {\n",
       "        vertical-align: top;\n",
       "    }\n",
       "\n",
       "    .dataframe thead th {\n",
       "        text-align: right;\n",
       "    }\n",
       "</style>\n",
       "<table border=\"1\" class=\"dataframe\">\n",
       "  <thead>\n",
       "    <tr style=\"text-align: right;\">\n",
       "      <th></th>\n",
       "      <th>Unnamed: 0</th>\n",
       "      <th>doublet_score</th>\n",
       "      <th>index</th>\n",
       "    </tr>\n",
       "  </thead>\n",
       "  <tbody>\n",
       "    <tr>\n",
       "      <th>0</th>\n",
       "      <td>AAACCCAAGCACTTTG-33</td>\n",
       "      <td>0.102319</td>\n",
       "      <td>AAACCCAAGCACTTTG-33</td>\n",
       "    </tr>\n",
       "    <tr>\n",
       "      <th>1</th>\n",
       "      <td>AAACCCAAGTTCCGGC-33</td>\n",
       "      <td>0.098247</td>\n",
       "      <td>AAACCCAAGTTCCGGC-33</td>\n",
       "    </tr>\n",
       "    <tr>\n",
       "      <th>2</th>\n",
       "      <td>AAACCCACAAAGGCTG-33</td>\n",
       "      <td>0.106653</td>\n",
       "      <td>AAACCCACAAAGGCTG-33</td>\n",
       "    </tr>\n",
       "    <tr>\n",
       "      <th>3</th>\n",
       "      <td>AAACCCACAAGGTCAG-33</td>\n",
       "      <td>0.030005</td>\n",
       "      <td>AAACCCACAAGGTCAG-33</td>\n",
       "    </tr>\n",
       "    <tr>\n",
       "      <th>4</th>\n",
       "      <td>AAACCCACAGACAAGC-33</td>\n",
       "      <td>0.067887</td>\n",
       "      <td>AAACCCACAGACAAGC-33</td>\n",
       "    </tr>\n",
       "  </tbody>\n",
       "</table>\n",
       "</div>"
      ],
      "text/plain": [
       "            Unnamed: 0  doublet_score                index\n",
       "0  AAACCCAAGCACTTTG-33       0.102319  AAACCCAAGCACTTTG-33\n",
       "1  AAACCCAAGTTCCGGC-33       0.098247  AAACCCAAGTTCCGGC-33\n",
       "2  AAACCCACAAAGGCTG-33       0.106653  AAACCCACAAAGGCTG-33\n",
       "3  AAACCCACAAGGTCAG-33       0.030005  AAACCCACAAGGTCAG-33\n",
       "4  AAACCCACAGACAAGC-33       0.067887  AAACCCACAGACAAGC-33"
      ]
     },
     "execution_count": 29,
     "metadata": {},
     "output_type": "execute_result"
    }
   ],
   "source": [
    "Scru.head(5)"
   ]
  },
  {
   "cell_type": "code",
   "execution_count": 30,
   "metadata": {},
   "outputs": [
    {
     "data": {
      "text/html": [
       "<div>\n",
       "<style scoped>\n",
       "    .dataframe tbody tr th:only-of-type {\n",
       "        vertical-align: middle;\n",
       "    }\n",
       "\n",
       "    .dataframe tbody tr th {\n",
       "        vertical-align: top;\n",
       "    }\n",
       "\n",
       "    .dataframe thead th {\n",
       "        text-align: right;\n",
       "    }\n",
       "</style>\n",
       "<table border=\"1\" class=\"dataframe\">\n",
       "  <thead>\n",
       "    <tr style=\"text-align: right;\">\n",
       "      <th></th>\n",
       "      <th>Unnamed: 0</th>\n",
       "      <th>doublet_score</th>\n",
       "    </tr>\n",
       "    <tr>\n",
       "      <th>index</th>\n",
       "      <th></th>\n",
       "      <th></th>\n",
       "    </tr>\n",
       "  </thead>\n",
       "  <tbody>\n",
       "    <tr>\n",
       "      <th>AAACCCAAGCACTTTG-33</th>\n",
       "      <td>AAACCCAAGCACTTTG-33</td>\n",
       "      <td>0.102319</td>\n",
       "    </tr>\n",
       "    <tr>\n",
       "      <th>AAACCCAAGTTCCGGC-33</th>\n",
       "      <td>AAACCCAAGTTCCGGC-33</td>\n",
       "      <td>0.098247</td>\n",
       "    </tr>\n",
       "    <tr>\n",
       "      <th>AAACCCACAAAGGCTG-33</th>\n",
       "      <td>AAACCCACAAAGGCTG-33</td>\n",
       "      <td>0.106653</td>\n",
       "    </tr>\n",
       "    <tr>\n",
       "      <th>AAACCCACAAGGTCAG-33</th>\n",
       "      <td>AAACCCACAAGGTCAG-33</td>\n",
       "      <td>0.030005</td>\n",
       "    </tr>\n",
       "    <tr>\n",
       "      <th>AAACCCACAGACAAGC-33</th>\n",
       "      <td>AAACCCACAGACAAGC-33</td>\n",
       "      <td>0.067887</td>\n",
       "    </tr>\n",
       "  </tbody>\n",
       "</table>\n",
       "</div>"
      ],
      "text/plain": [
       "                              Unnamed: 0  doublet_score\n",
       "index                                                  \n",
       "AAACCCAAGCACTTTG-33  AAACCCAAGCACTTTG-33       0.102319\n",
       "AAACCCAAGTTCCGGC-33  AAACCCAAGTTCCGGC-33       0.098247\n",
       "AAACCCACAAAGGCTG-33  AAACCCACAAAGGCTG-33       0.106653\n",
       "AAACCCACAAGGTCAG-33  AAACCCACAAGGTCAG-33       0.030005\n",
       "AAACCCACAGACAAGC-33  AAACCCACAGACAAGC-33       0.067887"
      ]
     },
     "execution_count": 30,
     "metadata": {},
     "output_type": "execute_result"
    }
   ],
   "source": [
    "Scru = Scru.set_index('index')\n",
    "Scru.head(5)"
   ]
  },
  {
   "cell_type": "code",
   "execution_count": 31,
   "metadata": {},
   "outputs": [
    {
     "data": {
      "text/plain": [
       "(313076, 2)"
      ]
     },
     "execution_count": 31,
     "metadata": {},
     "output_type": "execute_result"
    }
   ],
   "source": [
    "Scru.shape"
   ]
  },
  {
   "cell_type": "code",
   "execution_count": 38,
   "metadata": {},
   "outputs": [
    {
     "data": {
      "text/plain": [
       "(313076, 11)"
      ]
     },
     "execution_count": 38,
     "metadata": {},
     "output_type": "execute_result"
    }
   ],
   "source": [
    "adata_BS.obs.shape"
   ]
  },
  {
   "cell_type": "markdown",
   "metadata": {},
   "source": [
    "# Add scrublet doublet score to adata object\n"
   ]
  },
  {
   "cell_type": "code",
   "execution_count": 39,
   "metadata": {},
   "outputs": [],
   "source": [
    "adata_BS.obs['doublet_score']=Scru.doublet_score"
   ]
  },
  {
   "cell_type": "code",
   "execution_count": 40,
   "metadata": {},
   "outputs": [
    {
     "data": {
      "text/html": [
       "<div>\n",
       "<style scoped>\n",
       "    .dataframe tbody tr th:only-of-type {\n",
       "        vertical-align: middle;\n",
       "    }\n",
       "\n",
       "    .dataframe tbody tr th {\n",
       "        vertical-align: top;\n",
       "    }\n",
       "\n",
       "    .dataframe thead th {\n",
       "        text-align: right;\n",
       "    }\n",
       "</style>\n",
       "<table border=\"1\" class=\"dataframe\">\n",
       "  <thead>\n",
       "    <tr style=\"text-align: right;\">\n",
       "      <th></th>\n",
       "      <th>Cells</th>\n",
       "      <th>Samples</th>\n",
       "      <th>IDs</th>\n",
       "      <th>Names</th>\n",
       "      <th>Fig_ids</th>\n",
       "      <th>Groups</th>\n",
       "      <th>Ethnicity</th>\n",
       "      <th>Age_Months</th>\n",
       "      <th>runs_10X</th>\n",
       "      <th>Year</th>\n",
       "      <th>Patient_groups</th>\n",
       "      <th>doublet_score</th>\n",
       "    </tr>\n",
       "  </thead>\n",
       "  <tbody>\n",
       "    <tr>\n",
       "      <th>AAACCCAAGAACTGAT-1</th>\n",
       "      <td>AAACCCAAGAACTGAT-1</td>\n",
       "      <td>1</td>\n",
       "      <td>JB19050</td>\n",
       "      <td>HPIR_021_1</td>\n",
       "      <td>pHC1</td>\n",
       "      <td>pHC</td>\n",
       "      <td>W</td>\n",
       "      <td>2.17</td>\n",
       "      <td>B1</td>\n",
       "      <td>2020</td>\n",
       "      <td>pHC</td>\n",
       "      <td>0.172450</td>\n",
       "    </tr>\n",
       "    <tr>\n",
       "      <th>AAACCCAAGCGGGTTA-1</th>\n",
       "      <td>AAACCCAAGCGGGTTA-1</td>\n",
       "      <td>1</td>\n",
       "      <td>JB19050</td>\n",
       "      <td>HPIR_021_1</td>\n",
       "      <td>pHC1</td>\n",
       "      <td>pHC</td>\n",
       "      <td>W</td>\n",
       "      <td>2.17</td>\n",
       "      <td>B1</td>\n",
       "      <td>2020</td>\n",
       "      <td>pHC</td>\n",
       "      <td>0.041903</td>\n",
       "    </tr>\n",
       "    <tr>\n",
       "      <th>AAACCCAAGTGTAGAT-1</th>\n",
       "      <td>AAACCCAAGTGTAGAT-1</td>\n",
       "      <td>1</td>\n",
       "      <td>JB19050</td>\n",
       "      <td>HPIR_021_1</td>\n",
       "      <td>pHC1</td>\n",
       "      <td>pHC</td>\n",
       "      <td>W</td>\n",
       "      <td>2.17</td>\n",
       "      <td>B1</td>\n",
       "      <td>2020</td>\n",
       "      <td>pHC</td>\n",
       "      <td>0.037089</td>\n",
       "    </tr>\n",
       "    <tr>\n",
       "      <th>AAACCCACAACAAAGT-1</th>\n",
       "      <td>AAACCCACAACAAAGT-1</td>\n",
       "      <td>1</td>\n",
       "      <td>JB19050</td>\n",
       "      <td>HPIR_021_1</td>\n",
       "      <td>pHC1</td>\n",
       "      <td>pHC</td>\n",
       "      <td>W</td>\n",
       "      <td>2.17</td>\n",
       "      <td>B1</td>\n",
       "      <td>2020</td>\n",
       "      <td>pHC</td>\n",
       "      <td>0.102319</td>\n",
       "    </tr>\n",
       "    <tr>\n",
       "      <th>AAACCCACACGACAGA-1</th>\n",
       "      <td>AAACCCACACGACAGA-1</td>\n",
       "      <td>1</td>\n",
       "      <td>JB19050</td>\n",
       "      <td>HPIR_021_1</td>\n",
       "      <td>pHC1</td>\n",
       "      <td>pHC</td>\n",
       "      <td>W</td>\n",
       "      <td>2.17</td>\n",
       "      <td>B1</td>\n",
       "      <td>2020</td>\n",
       "      <td>pHC</td>\n",
       "      <td>0.116209</td>\n",
       "    </tr>\n",
       "  </tbody>\n",
       "</table>\n",
       "</div>"
      ],
      "text/plain": [
       "                                 Cells Samples      IDs       Names Fig_ids  \\\n",
       "AAACCCAAGAACTGAT-1  AAACCCAAGAACTGAT-1       1  JB19050  HPIR_021_1    pHC1   \n",
       "AAACCCAAGCGGGTTA-1  AAACCCAAGCGGGTTA-1       1  JB19050  HPIR_021_1    pHC1   \n",
       "AAACCCAAGTGTAGAT-1  AAACCCAAGTGTAGAT-1       1  JB19050  HPIR_021_1    pHC1   \n",
       "AAACCCACAACAAAGT-1  AAACCCACAACAAAGT-1       1  JB19050  HPIR_021_1    pHC1   \n",
       "AAACCCACACGACAGA-1  AAACCCACACGACAGA-1       1  JB19050  HPIR_021_1    pHC1   \n",
       "\n",
       "                   Groups Ethnicity Age_Months runs_10X  Year Patient_groups  \\\n",
       "AAACCCAAGAACTGAT-1    pHC         W       2.17       B1  2020            pHC   \n",
       "AAACCCAAGCGGGTTA-1    pHC         W       2.17       B1  2020            pHC   \n",
       "AAACCCAAGTGTAGAT-1    pHC         W       2.17       B1  2020            pHC   \n",
       "AAACCCACAACAAAGT-1    pHC         W       2.17       B1  2020            pHC   \n",
       "AAACCCACACGACAGA-1    pHC         W       2.17       B1  2020            pHC   \n",
       "\n",
       "                    doublet_score  \n",
       "AAACCCAAGAACTGAT-1       0.172450  \n",
       "AAACCCAAGCGGGTTA-1       0.041903  \n",
       "AAACCCAAGTGTAGAT-1       0.037089  \n",
       "AAACCCACAACAAAGT-1       0.102319  \n",
       "AAACCCACACGACAGA-1       0.116209  "
      ]
     },
     "execution_count": 40,
     "metadata": {},
     "output_type": "execute_result"
    }
   ],
   "source": [
    "adata_BS.obs.head(5)"
   ]
  },
  {
   "cell_type": "code",
   "execution_count": 41,
   "metadata": {},
   "outputs": [
    {
     "data": {
      "text/plain": [
       "(313076, 33538)"
      ]
     },
     "execution_count": 41,
     "metadata": {},
     "output_type": "execute_result"
    }
   ],
   "source": [
    "adata_BS.shape"
   ]
  },
  {
   "cell_type": "markdown",
   "metadata": {},
   "source": [
    "# Define threshold to be applyed + define doublet vs. singlet\n"
   ]
  },
  {
   "cell_type": "code",
   "execution_count": 42,
   "metadata": {},
   "outputs": [],
   "source": [
    "threshold = 0.25\n",
    "adata_BS.obs['predicted_doublets_1'] = pd.Categorical(['doublet' if x > threshold else 'singlet' for x in adata_BS.obs.doublet_score])"
   ]
  },
  {
   "cell_type": "code",
   "execution_count": 43,
   "metadata": {},
   "outputs": [
    {
     "data": {
      "text/plain": [
       "singlet    300708\n",
       "doublet     12368\n",
       "Name: predicted_doublets_1, dtype: int64"
      ]
     },
     "execution_count": 43,
     "metadata": {},
     "output_type": "execute_result"
    }
   ],
   "source": [
    "adata_BS.obs.predicted_doublets_1.value_counts()"
   ]
  },
  {
   "cell_type": "code",
   "execution_count": 44,
   "metadata": {},
   "outputs": [
    {
     "data": {
      "text/plain": [
       "Index(['AAACCCAAGAACTGAT-1', 'AAACCCAAGCGGGTTA-1', 'AAACCCAAGTGTAGAT-1',\n",
       "       'AAACCCACAACAAAGT-1', 'AAACCCACACGACAGA-1', 'AAACCCAGTAGACAGC-1',\n",
       "       'AAACCCAGTATTAAGG-1', 'AAACCCAGTGATACTC-1', 'AAACCCATCAGGTAAA-1',\n",
       "       'AAACGAAAGACATAAC-1',\n",
       "       ...\n",
       "       'TTTGGTTCATAAGCGG-40', 'TTTGGTTCATACGCAT-40', 'TTTGGTTGTATACAGA-40',\n",
       "       'TTTGGTTGTGATTCTG-40', 'TTTGGTTTCATCGTAG-40', 'TTTGTTGAGCGTTCCG-40',\n",
       "       'TTTGTTGAGCTGACAG-40', 'TTTGTTGCAGACATCT-40', 'TTTGTTGGTTCCACGG-40',\n",
       "       'TTTGTTGTCTTGGGCG-40'],\n",
       "      dtype='object', length=300708)"
      ]
     },
     "execution_count": 44,
     "metadata": {},
     "output_type": "execute_result"
    }
   ],
   "source": [
    "cells_of_interest1 = adata_BS.obs.loc[adata_BS.obs[\"predicted_doublets_1\"].isin([\"singlet\"]), :].index\n",
    "cells_of_interest1"
   ]
  },
  {
   "cell_type": "markdown",
   "metadata": {},
   "source": [
    "# Object after doublet removal\n"
   ]
  },
  {
   "cell_type": "code",
   "execution_count": 45,
   "metadata": {},
   "outputs": [
    {
     "name": "stderr",
     "output_type": "stream",
     "text": [
      "/home/nehard/anaconda3/envs/Hnunu/lib/python3.6/site-packages/anndata/_core/anndata.py:1094: FutureWarning: is_categorical is deprecated and will be removed in a future version.  Use is_categorical_dtype instead\n",
      "  if not is_categorical(df_full[k]):\n"
     ]
    },
    {
     "data": {
      "text/plain": [
       "View of AnnData object with n_obs × n_vars = 300708 × 33538\n",
       "    obs: 'Cells', 'Samples', 'IDs', 'Names', 'Fig_ids', 'Groups', 'Ethnicity', 'Age_Months', 'runs_10X', 'Year', 'Patient_groups', 'doublet_score', 'predicted_doublets_1'\n",
       "    var: 'gene_ids', 'feature_types'"
      ]
     },
     "execution_count": 45,
     "metadata": {},
     "output_type": "execute_result"
    }
   ],
   "source": [
    "#---- object after removing doublets \n",
    "\n",
    "adata_Scrub=adata_BS[cells_of_interest1, :]\n",
    "adata_Scrub"
   ]
  },
  {
   "cell_type": "code",
   "execution_count": 46,
   "metadata": {},
   "outputs": [
    {
     "data": {
      "text/html": [
       "<div>\n",
       "<style scoped>\n",
       "    .dataframe tbody tr th:only-of-type {\n",
       "        vertical-align: middle;\n",
       "    }\n",
       "\n",
       "    .dataframe tbody tr th {\n",
       "        vertical-align: top;\n",
       "    }\n",
       "\n",
       "    .dataframe thead th {\n",
       "        text-align: right;\n",
       "    }\n",
       "</style>\n",
       "<table border=\"1\" class=\"dataframe\">\n",
       "  <thead>\n",
       "    <tr style=\"text-align: right;\">\n",
       "      <th></th>\n",
       "      <th>Cells</th>\n",
       "      <th>Samples</th>\n",
       "      <th>IDs</th>\n",
       "      <th>Names</th>\n",
       "      <th>Fig_ids</th>\n",
       "      <th>Groups</th>\n",
       "      <th>Ethnicity</th>\n",
       "      <th>Age_Months</th>\n",
       "      <th>runs_10X</th>\n",
       "      <th>Year</th>\n",
       "      <th>Patient_groups</th>\n",
       "      <th>doublet_score</th>\n",
       "      <th>predicted_doublets_1</th>\n",
       "    </tr>\n",
       "  </thead>\n",
       "  <tbody>\n",
       "    <tr>\n",
       "      <th>AAACCCAAGAACTGAT-1</th>\n",
       "      <td>AAACCCAAGAACTGAT-1</td>\n",
       "      <td>1</td>\n",
       "      <td>JB19050</td>\n",
       "      <td>HPIR_021_1</td>\n",
       "      <td>pHC1</td>\n",
       "      <td>pHC</td>\n",
       "      <td>W</td>\n",
       "      <td>2.17</td>\n",
       "      <td>B1</td>\n",
       "      <td>2020</td>\n",
       "      <td>pHC</td>\n",
       "      <td>0.172450</td>\n",
       "      <td>singlet</td>\n",
       "    </tr>\n",
       "    <tr>\n",
       "      <th>AAACCCAAGCGGGTTA-1</th>\n",
       "      <td>AAACCCAAGCGGGTTA-1</td>\n",
       "      <td>1</td>\n",
       "      <td>JB19050</td>\n",
       "      <td>HPIR_021_1</td>\n",
       "      <td>pHC1</td>\n",
       "      <td>pHC</td>\n",
       "      <td>W</td>\n",
       "      <td>2.17</td>\n",
       "      <td>B1</td>\n",
       "      <td>2020</td>\n",
       "      <td>pHC</td>\n",
       "      <td>0.041903</td>\n",
       "      <td>singlet</td>\n",
       "    </tr>\n",
       "    <tr>\n",
       "      <th>AAACCCAAGTGTAGAT-1</th>\n",
       "      <td>AAACCCAAGTGTAGAT-1</td>\n",
       "      <td>1</td>\n",
       "      <td>JB19050</td>\n",
       "      <td>HPIR_021_1</td>\n",
       "      <td>pHC1</td>\n",
       "      <td>pHC</td>\n",
       "      <td>W</td>\n",
       "      <td>2.17</td>\n",
       "      <td>B1</td>\n",
       "      <td>2020</td>\n",
       "      <td>pHC</td>\n",
       "      <td>0.037089</td>\n",
       "      <td>singlet</td>\n",
       "    </tr>\n",
       "    <tr>\n",
       "      <th>AAACCCACAACAAAGT-1</th>\n",
       "      <td>AAACCCACAACAAAGT-1</td>\n",
       "      <td>1</td>\n",
       "      <td>JB19050</td>\n",
       "      <td>HPIR_021_1</td>\n",
       "      <td>pHC1</td>\n",
       "      <td>pHC</td>\n",
       "      <td>W</td>\n",
       "      <td>2.17</td>\n",
       "      <td>B1</td>\n",
       "      <td>2020</td>\n",
       "      <td>pHC</td>\n",
       "      <td>0.102319</td>\n",
       "      <td>singlet</td>\n",
       "    </tr>\n",
       "    <tr>\n",
       "      <th>AAACCCACACGACAGA-1</th>\n",
       "      <td>AAACCCACACGACAGA-1</td>\n",
       "      <td>1</td>\n",
       "      <td>JB19050</td>\n",
       "      <td>HPIR_021_1</td>\n",
       "      <td>pHC1</td>\n",
       "      <td>pHC</td>\n",
       "      <td>W</td>\n",
       "      <td>2.17</td>\n",
       "      <td>B1</td>\n",
       "      <td>2020</td>\n",
       "      <td>pHC</td>\n",
       "      <td>0.116209</td>\n",
       "      <td>singlet</td>\n",
       "    </tr>\n",
       "  </tbody>\n",
       "</table>\n",
       "</div>"
      ],
      "text/plain": [
       "                                 Cells Samples      IDs       Names Fig_ids  \\\n",
       "AAACCCAAGAACTGAT-1  AAACCCAAGAACTGAT-1       1  JB19050  HPIR_021_1    pHC1   \n",
       "AAACCCAAGCGGGTTA-1  AAACCCAAGCGGGTTA-1       1  JB19050  HPIR_021_1    pHC1   \n",
       "AAACCCAAGTGTAGAT-1  AAACCCAAGTGTAGAT-1       1  JB19050  HPIR_021_1    pHC1   \n",
       "AAACCCACAACAAAGT-1  AAACCCACAACAAAGT-1       1  JB19050  HPIR_021_1    pHC1   \n",
       "AAACCCACACGACAGA-1  AAACCCACACGACAGA-1       1  JB19050  HPIR_021_1    pHC1   \n",
       "\n",
       "                   Groups Ethnicity Age_Months runs_10X  Year Patient_groups  \\\n",
       "AAACCCAAGAACTGAT-1    pHC         W       2.17       B1  2020            pHC   \n",
       "AAACCCAAGCGGGTTA-1    pHC         W       2.17       B1  2020            pHC   \n",
       "AAACCCAAGTGTAGAT-1    pHC         W       2.17       B1  2020            pHC   \n",
       "AAACCCACAACAAAGT-1    pHC         W       2.17       B1  2020            pHC   \n",
       "AAACCCACACGACAGA-1    pHC         W       2.17       B1  2020            pHC   \n",
       "\n",
       "                    doublet_score predicted_doublets_1  \n",
       "AAACCCAAGAACTGAT-1       0.172450              singlet  \n",
       "AAACCCAAGCGGGTTA-1       0.041903              singlet  \n",
       "AAACCCAAGTGTAGAT-1       0.037089              singlet  \n",
       "AAACCCACAACAAAGT-1       0.102319              singlet  \n",
       "AAACCCACACGACAGA-1       0.116209              singlet  "
      ]
     },
     "execution_count": 46,
     "metadata": {},
     "output_type": "execute_result"
    }
   ],
   "source": [
    "adata_Scrub.obs.head()"
   ]
  },
  {
   "cell_type": "markdown",
   "metadata": {},
   "source": [
    "# Save objects"
   ]
  },
  {
   "cell_type": "code",
   "execution_count": 47,
   "metadata": {},
   "outputs": [
    {
     "name": "stderr",
     "output_type": "stream",
     "text": [
      "/home/nehard/anaconda3/envs/Hnunu/lib/python3.6/site-packages/anndata/_core/anndata.py:1192: FutureWarning: is_categorical is deprecated and will be removed in a future version.  Use is_categorical_dtype instead\n",
      "  if is_string_dtype(df[key]) and not is_categorical(df[key])\n"
     ]
    }
   ],
   "source": [
    "#----------------------------------- Save H5AD + META objects ------------------ #\n",
    "\n",
    "# after scrublet \n",
    "adata_Scrub.write('../H5AD/pCov40_AS_BF_04132021.h5ad')\n",
    "\n",
    "# AS before filtration \n",
    "adata_Scrub.obs.to_csv('../Meta/Meta_pCov40_AS_BF_04132021.csv')\n"
   ]
  },
  {
   "cell_type": "code",
   "execution_count": 48,
   "metadata": {},
   "outputs": [
    {
     "data": {
      "text/plain": [
       "View of AnnData object with n_obs × n_vars = 300708 × 33538\n",
       "    obs: 'Cells', 'Samples', 'IDs', 'Names', 'Fig_ids', 'Groups', 'Ethnicity', 'Age_Months', 'runs_10X', 'Year', 'Patient_groups', 'doublet_score', 'predicted_doublets_1'\n",
       "    var: 'gene_ids', 'feature_types'"
      ]
     },
     "execution_count": 48,
     "metadata": {},
     "output_type": "execute_result"
    }
   ],
   "source": [
    "adata_Scrub"
   ]
  },
  {
   "cell_type": "code",
   "execution_count": 49,
   "metadata": {},
   "outputs": [
    {
     "data": {
      "text/plain": [
       "JB21101    14061\n",
       "JB19057    13257\n",
       "JB21114    11416\n",
       "JB21117    11060\n",
       "JB21103    10837\n",
       "JB21119    10760\n",
       "JB19053    10241\n",
       "JB21097     9610\n",
       "JB20076     9596\n",
       "JB21115     9495\n",
       "JB21104     9453\n",
       "JB21102     8979\n",
       "JB21120     8947\n",
       "JB21118     8703\n",
       "JB20067     8565\n",
       "JB20136     8143\n",
       "JB19056     7931\n",
       "JB21100     7901\n",
       "JB20143     7625\n",
       "JB21113     7092\n",
       "JB20078     7065\n",
       "JB20080     7036\n",
       "JB19050     6921\n",
       "JB20068     6913\n",
       "JB20138     6733\n",
       "JB20120     6710\n",
       "JB21098     6630\n",
       "JB20137     6564\n",
       "JB20079     6430\n",
       "JB20077     6398\n",
       "JB20127     6168\n",
       "JB20064     5797\n",
       "JB20066     5581\n",
       "JB19069     5523\n",
       "JB21099     5425\n",
       "JB21116     5324\n",
       "JB20121     5228\n",
       "JB19058     5151\n",
       "JB19066     4475\n",
       "JB20065     3332\n",
       "Name: IDs, dtype: int64"
      ]
     },
     "execution_count": 49,
     "metadata": {},
     "output_type": "execute_result"
    }
   ],
   "source": [
    "adata_BS.obs.IDs.value_counts(sort=True)"
   ]
  },
  {
   "cell_type": "code",
   "execution_count": 50,
   "metadata": {},
   "outputs": [
    {
     "data": {
      "text/plain": [
       "JB21101    13560\n",
       "JB19057    12814\n",
       "JB21117    10629\n",
       "JB21103    10475\n",
       "JB21114    10450\n",
       "JB21119    10395\n",
       "JB19053     9891\n",
       "JB21097     9340\n",
       "JB21115     9161\n",
       "JB21104     9122\n",
       "JB21102     8750\n",
       "JB21120     8656\n",
       "JB20076     8642\n",
       "JB21118     8445\n",
       "JB20067     8229\n",
       "JB20136     7937\n",
       "JB21100     7725\n",
       "JB19056     7640\n",
       "JB20143     7279\n",
       "JB21113     6918\n",
       "JB19050     6686\n",
       "JB20080     6586\n",
       "JB20068     6551\n",
       "JB20138     6534\n",
       "JB21098     6504\n",
       "JB20078     6482\n",
       "JB20120     6466\n",
       "JB20137     6311\n",
       "JB20079     6144\n",
       "JB20077     6134\n",
       "JB20127     5999\n",
       "JB20064     5579\n",
       "JB20066     5386\n",
       "JB19069     5361\n",
       "JB21099     5306\n",
       "JB21116     5223\n",
       "JB20121     5066\n",
       "JB19058     4930\n",
       "JB19066     4239\n",
       "JB20065     3163\n",
       "Name: IDs, dtype: int64"
      ]
     },
     "execution_count": 50,
     "metadata": {},
     "output_type": "execute_result"
    }
   ],
   "source": [
    "adata_Scrub.obs.IDs.value_counts(sort=True)"
   ]
  },
  {
   "cell_type": "code",
   "execution_count": null,
   "metadata": {},
   "outputs": [],
   "source": []
  }
 ],
 "metadata": {
  "kernelspec": {
   "display_name": "scanpy",
   "language": "python",
   "name": "scanpy"
  },
  "language_info": {
   "codemirror_mode": {
    "name": "ipython",
    "version": 3
   },
   "file_extension": ".py",
   "mimetype": "text/x-python",
   "name": "python",
   "nbconvert_exporter": "python",
   "pygments_lexer": "ipython3",
   "version": "3.6.13"
  }
 },
 "nbformat": 4,
 "nbformat_minor": 4
}
